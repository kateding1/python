{
 "cells": [
  {
   "cell_type": "code",
   "execution_count": 1,
   "metadata": {
    "collapsed": false
   },
   "outputs": [],
   "source": [
    "from __future__ import division\n",
    "import numpy as np\n",
    "\n",
    "# Generate the data according to the specification in the homework description\n",
    "# for part (b)\n",
    "\n",
    "A1 = np.array([[0.5, 0.2, 0.3], [0.2, 0.4, 0.4], [0.4, 0.1, 0.5]])\n",
    "phi = np.array([[0.8, 0.2], [0.1, 0.9], [0.5, 0.5]])\n",
    "pi0 = np.array([0.5, 0.3, 0.2])\n",
    "\n",
    "X = []\n",
    "\n",
    "for _ in xrange(5000):\n",
    "    z = [np.random.choice([0,1,2], p=pi0)]\n",
    "    for _ in range(3):\n",
    "        z.append(np.random.choice([0,1,2], p=A1[z[-1]]))\n",
    "    x = [np.random.choice([0,1], p=phi[zi]) for zi in z]\n",
    "    X.append(x)\n",
    "X=np.array(X)\n",
    "# TODO: Implement Baum-Welch for estimating the parameters of the HMM"
   ]
  },
  {
   "cell_type": "code",
   "execution_count": 2,
   "metadata": {
    "collapsed": false
   },
   "outputs": [],
   "source": [
    "#get beta\n",
    "def b(N,A,B):\n",
    "    Betat=np.zeros([1,12])\n",
    "    Beta1=np.zeros([1,12])\n",
    "    for i in range(N):\n",
    "        Beta=np.zeros([1,12])\n",
    "        Beta[0,0:3]=1\n",
    "        for j in range(3):\n",
    "            for k in range(3):\n",
    "                Beta[0,3+j]=Beta[0,3+j]+A[j,k]*B[k,X[i,3]]*Beta[0,k]\n",
    "        for j in range(3):\n",
    "            for k in range(3):\n",
    "                Beta[0,6+j]=Beta[0,6+j]+A[j,k]*B[k,X[i,2]]*Beta[0,3+k]\n",
    "        for j in range(3):\n",
    "            for k in range(3):\n",
    "                Beta[0,9+j]=Beta[0,9+j]+A[j,k]*B[k,X[i,1]]*Beta[0,6+k]\n",
    "        for j in range(3):\n",
    "            Beta1[0,j]=Beta[0,9+j]\n",
    "            Beta1[0,j+3]=Beta[0,6+j]\n",
    "            Beta1[0,j+6]=Beta[0,3+j]\n",
    "            Beta1[0,j+9]=Beta[0,j]\n",
    "        Betat=np.append(Betat,Beta1,axis=0)\n",
    "    Betat=Betat[1:,:]\n",
    "    return Betat"
   ]
  },
  {
   "cell_type": "code",
   "execution_count": 5,
   "metadata": {
    "collapsed": false
   },
   "outputs": [],
   "source": [
    "#get alpha\n",
    "def a(N,pi,A,B,X):\n",
    "    Alphat=np.zeros([1,12])\n",
    "    for i in range(N):\n",
    "        alpha=np.zeros([1,12])\n",
    "        for j in range(3):\n",
    "            alpha[0,j]=pi[j]*B[j,X[i,0]]\n",
    "        for j in range(3):\n",
    "            for k in range(3):\n",
    "                alpha[0,3+j]=alpha[0,3+j]+alpha[0,k]*A[k,j]\n",
    "            alpha[0,3+j]=alpha[0,3+j]*B[j,X[i,1]]\n",
    "        for j in range(3):\n",
    "            for k in range(3):\n",
    "                alpha[0,6+j]=alpha[0,6+j]+alpha[0,k+3]*A[k,j]\n",
    "            alpha[0,6+j]=alpha[0,6+j]*B[j,X[i,2]]\n",
    "        for j in range(3):\n",
    "            for k in range(3):\n",
    "                alpha[0,9+j]=alpha[0,9+j]+alpha[0,k+6]*A[k,j]\n",
    "            alpha[0,9+j]=alpha[0,9+j]*B[j,X[i,3]]\n",
    "        Alphat=np.append(Alphat,alpha,axis=0)\n",
    "    Alphat=Alphat[1:,:]\n",
    "    return Alphat"
   ]
  },
  {
   "cell_type": "code",
   "execution_count": 6,
   "metadata": {
    "collapsed": false
   },
   "outputs": [],
   "source": [
    "def g(N,al,be):\n",
    "    gamma=np.zeros((al.shape))\n",
    "    for i in range(N):\n",
    "        for j in range(12):\n",
    "            gamma[i,j]=al[i,j]*be[i,j]\n",
    "    sum1=np.sum(gamma[:,0:3],axis=1)\n",
    "    sum2=np.sum(gamma[:,3:6],axis=1)\n",
    "    sum3=np.sum(gamma[:,6:9],axis=1)\n",
    "    sum4=np.sum(gamma[:,9:12],axis=1)\n",
    "    for i in range(N):\n",
    "        gamma[i,0:3]=gamma[i,0:3]/sum1[i]\n",
    "        gamma[i,3:6]=gamma[i,3:6]/sum2[i]\n",
    "        gamma[i,6:9]=gamma[i,6:9]/sum3[i]\n",
    "        gamma[i,9:12]=gamma[i,9:12]/sum4[i]\n",
    "    return gamma"
   ]
  },
  {
   "cell_type": "code",
   "execution_count": 7,
   "metadata": {
    "collapsed": false
   },
   "outputs": [],
   "source": [
    "def y(k,al,be,A,B):\n",
    "    yy=np.zeros((3,3))\n",
    "    a=np.multiply(np.matrix(al[k,0:3]).T*np.matrix(be[k,3:6]),A)\n",
    "    for l in range(3):\n",
    "        a[:,l]=a[:,l]*B[l,X[k,1]]\n",
    "    a=a/np.sum(al[k,3:6]*be[k,3:6])\n",
    "    b=np.multiply(np.matrix(al[k,3:6]).T*np.matrix(be[k,6:9]),A)\n",
    "    for l in range(3):\n",
    "        b[:,l]=b[:,l]*B[l,X[k,2]]\n",
    "    b=b/np.sum(al[k,6:9]*be[k,6:9])\n",
    "    c=np.multiply(np.matrix(al[k,6:9]).T*np.matrix(be[k,9:12]),A)\n",
    "    for l in range(3):\n",
    "        c[:,l]=c[:,l]*B[l,X[k,3]]\n",
    "    c=c/np.sum(al[k,9:12]*be[k,9:12])       \n",
    "    yy=a+b+c\n",
    "    return yy"
   ]
  },
  {
   "cell_type": "code",
   "execution_count": 8,
   "metadata": {
    "collapsed": false
   },
   "outputs": [],
   "source": [
    "Z=np.zeros((16,4))\n",
    "m=0\n",
    "for i in range(2):\n",
    "    for j in range(2):\n",
    "        for l in range(2):\n",
    "            for k in range(2):\n",
    "                Z[m,:]=np.matrix([i,j,l,k])\n",
    "                m=m+1"
   ]
  },
  {
   "cell_type": "code",
   "execution_count": 9,
   "metadata": {
    "collapsed": false
   },
   "outputs": [
    {
     "name": "stderr",
     "output_type": "stream",
     "text": [
      "C:\\Users\\dingd\\Anaconda2\\lib\\site-packages\\ipykernel\\__main__.py:7: DeprecationWarning: using a non-integer number instead of an integer will result in an error in the future\n",
      "C:\\Users\\dingd\\Anaconda2\\lib\\site-packages\\ipykernel\\__main__.py:11: DeprecationWarning: using a non-integer number instead of an integer will result in an error in the future\n",
      "C:\\Users\\dingd\\Anaconda2\\lib\\site-packages\\ipykernel\\__main__.py:15: DeprecationWarning: using a non-integer number instead of an integer will result in an error in the future\n",
      "C:\\Users\\dingd\\Anaconda2\\lib\\site-packages\\ipykernel\\__main__.py:19: DeprecationWarning: using a non-integer number instead of an integer will result in an error in the future\n"
     ]
    }
   ],
   "source": [
    "res=a(16,pi0,A1,phi,Z)\n",
    "Pt=np.sum(res[:,9:12],axis=1)"
   ]
  },
  {
   "cell_type": "code",
   "execution_count": 36,
   "metadata": {
    "collapsed": false
   },
   "outputs": [],
   "source": [
    "#initial the parameter\n",
    "#random number\n",
    "R=np.random.uniform(0,1,18)"
   ]
  },
  {
   "cell_type": "code",
   "execution_count": 50,
   "metadata": {
    "collapsed": true
   },
   "outputs": [],
   "source": [
    "A=np.matrix([[R[0]/(R[1]+R[2]+R[0]),R[1]/(R[1]+R[2]+R[0]),R[2]/(R[1]+R[2]+R[0])],[R[3]/(R[4]+R[5]+R[3]),R[4]/(R[4]+R[5]+R[3]),R[5]/(R[4]+R[5]+R[3])],[R[6]/(R[7]+R[8]+R[6]),R[7]/(R[7]+R[8]+R[6]),R[8]/(R[7]+R[8]+R[6])]])\n",
    "B=np.matrix([[R[9]/(R[10]+R[9]),R[10]/(R[10]+R[9])],[R[11]/(R[12]+R[11]),R[12]/(R[12]+R[11])],[R[13]/(R[14]+R[13]),R[14]/(R[14]+R[13])]])\n",
    "pi=np.array([R[15]/(R[16]+R[17]+R[15]),R[16]/(R[16]+R[17]+R[15]),R[17]/(R[16]+R[17]+R[15])])"
   ]
  },
  {
   "cell_type": "code",
   "execution_count": 51,
   "metadata": {
    "collapsed": false
   },
   "outputs": [],
   "source": [
    "N=5000\n",
    "I=50\n",
    "error=0\n",
    "loglike1=0\n",
    "for o in range(I):\n",
    "    alpha1=a(N,pi,A,B,X)\n",
    "    beta1=b(N,A,B)\n",
    "    gamma1=g(N,alpha1,beta1)\n",
    "    An=np.zeros((3,3))\n",
    "    for i in range(3):\n",
    "        pi[i]=np.sum(gamma1[:,i])/np.sum(gamma1[:,0:3])\n",
    "    for i in range(N):\n",
    "        An=An+y(i,alpha1,beta1,A,B)\n",
    "    An=An/np.sum(An,axis=1)\n",
    "    A=An\n",
    "    d=np.zeros((N,3))\n",
    "    for i in range(3):    \n",
    "        for j in range(N):\n",
    "            d[j,i]=gamma1[j,i]*X[j,0]+gamma1[j,i+3]*X[j,1]+gamma1[j,i+6]*X[j,2]+gamma1[j,i+9]*X[j,3]\n",
    "        B[i,1]=np.sum(d[:,i])/(np.sum(gamma1[:,i])+np.sum(gamma1[:,i+3])+np.sum(gamma1[:,i+6])+np.sum(gamma1[:,i+9]))\n",
    "    for i in range(3):\n",
    "        B[i,0]=1-B[i,1]\n",
    "    ress=a(16,pi,A,B,Z)\n",
    "    P=np.sum(ress[:,9:12],axis=1)\n",
    "    error=np.append(error,np.sum(np.abs(Pt-P))/2)\n",
    "    ress=a(N,pi,A,B,X)\n",
    "    P=np.sum(ress[:,9:12],axis=1)\n",
    "    loglike=1\n",
    "    for i in range(16):\n",
    "        loglike=loglike*P[i]\n",
    "    loglike1=np.append(loglike1,loglike)"
   ]
  },
  {
   "cell_type": "code",
   "execution_count": 39,
   "metadata": {
    "collapsed": false
   },
   "outputs": [
    {
     "data": {
      "text/plain": [
       "[<matplotlib.lines.Line2D at 0xca76588>]"
      ]
     },
     "execution_count": 39,
     "metadata": {},
     "output_type": "execute_result"
    },
    {
     "data": {
      "image/png": "[encoded data removed]",
      "text/plain": [
       "<matplotlib.figure.Figure at 0xba1d5c0>"
      ]
     },
     "metadata": {},
     "output_type": "display_data"
    }
   ],
   "source": [
    "error500=error[1:]\n",
    "from matplotlib import pyplot as plt\n",
    "%matplotlib inline\n",
    "plt.plot(error500)"
   ]
  },
  {
   "cell_type": "code",
   "execution_count": 45,
   "metadata": {
    "collapsed": false
   },
   "outputs": [
    {
     "data": {
      "text/plain": [
       "[<matplotlib.lines.Line2D at 0xce68320>]"
      ]
     },
     "execution_count": 45,
     "metadata": {},
     "output_type": "execute_result"
    },
    {
     "data": {
      "image/png": "[encoded data removed]",
      "text/plain": [
       "<matplotlib.figure.Figure at 0xce682e8>"
      ]
     },
     "metadata": {},
     "output_type": "display_data"
    }
   ],
   "source": [
    "error1000=error[1:]\n",
    "from matplotlib import pyplot as plt\n",
    "%matplotlib inline\n",
    "plt.plot(error500)\n",
    "plt.plot(error1000)"
   ]
  },
  {
   "cell_type": "code",
   "execution_count": 49,
   "metadata": {
    "collapsed": false
   },
   "outputs": [
    {
     "data": {
      "text/plain": [
       "[<matplotlib.lines.Line2D at 0xd4d7ba8>]"
      ]
     },
     "execution_count": 49,
     "metadata": {},
     "output_type": "execute_result"
    },
    {
     "data": {
      "image/png": "[encoded data removed]",
      "text/plain": [
       "<matplotlib.figure.Figure at 0xd1aa390>"
      ]
     },
     "metadata": {},
     "output_type": "display_data"
    }
   ],
   "source": [
    "error2000=error[1:]\n",
    "from matplotlib import pyplot as plt\n",
    "%matplotlib inline\n",
    "plt.plot(error2000)\n",
    "plt.plot(error1000)\n",
    "plt.plot(error500)"
   ]
  },
  {
   "cell_type": "code",
   "execution_count": 56,
   "metadata": {
    "collapsed": false
   },
   "outputs": [
    {
     "data": {
      "text/plain": [
       "<matplotlib.legend.Legend at 0xde49c50>"
      ]
     },
     "execution_count": 56,
     "metadata": {},
     "output_type": "execute_result"
    },
    {
     "data": {
      "image/png": "[encoded data removed]",
      "text/plain": [
       "<matplotlib.figure.Figure at 0xde49c88>"
      ]
     },
     "metadata": {},
     "output_type": "display_data"
    }
   ],
   "source": [
    "error5000=error[1:]\n",
    "from matplotlib import pyplot as plt\n",
    "%matplotlib inline\n",
    "plt.plot(error5000,label='N=5000')\n",
    "plt.plot(error2000,label='N=2000')\n",
    "plt.plot(error1000,label='N=1000')\n",
    "plt.plot(error500,label='N=500')\n",
    "plt.legend()"
   ]
  },
  {
   "cell_type": "code",
   "execution_count": 53,
   "metadata": {
    "collapsed": false
   },
   "outputs": [
    {
     "data": {
      "text/plain": [
       "[<matplotlib.lines.Line2D at 0xda406a0>]"
      ]
     },
     "execution_count": 53,
     "metadata": {},
     "output_type": "execute_result"
    },
    {
     "data": {
      "image/png": "[encoded data removed]",
      "text/plain": [
       "<matplotlib.figure.Figure at 0xd57a080>"
      ]
     },
     "metadata": {},
     "output_type": "display_data"
    }
   ],
   "source": [
    "loglike1=loglike1[1:]\n",
    "from matplotlib import pyplot as plt\n",
    "%matplotlib inline\n",
    "plt.plot(loglike1)"
   ]
  },
  {
   "cell_type": "code",
   "execution_count": null,
   "metadata": {
    "collapsed": false
   },
   "outputs": [],
   "source": [
    "Pt"
   ]
  },
  {
   "cell_type": "code",
   "execution_count": null,
   "metadata": {
    "collapsed": true
   },
   "outputs": [],
   "source": []
  }
 ],
 "metadata": {
  "kernelspec": {
   "display_name": "Python 2",
   "language": "python",
   "name": "python2"
  },
  "language_info": {
   "codemirror_mode": {
    "name": "ipython",
    "version": 2
   },
   "file_extension": ".py",
   "mimetype": "text/x-python",
   "name": "python",
   "nbconvert_exporter": "python",
   "pygments_lexer": "ipython2",
   "version": "2.7.11"
  }
 },
 "nbformat": 4,
 "nbformat_minor": 0
}
