{
 "cells": [
  {
   "cell_type": "code",
   "execution_count": 12,
   "metadata": {
    "collapsed": true
   },
   "outputs": [],
   "source": [
    "import numpy as np\n",
    "#import matrixs\n",
    "A=np.matrix([[0.5,0.2,0.3],[0.2,0.4,0.4],[0.4,0.1,0.5]])\n",
    "B=np.matrix([[0.8,0.2],[0.1,0.9],[0.5,0.5]])\n",
    "pi=np.array([0.5,0.3,0.2])\n",
    "s=np.array([0,1,0,1])"
   ]
  },
  {
   "cell_type": "code",
   "execution_count": 13,
   "metadata": {
    "collapsed": true
   },
   "outputs": [],
   "source": [
    "#set up all possible sequence\n",
    "P=np.zeros(81)\n",
    "Z=np.zeros((81,4))\n",
    "m=0\n",
    "for i in range(3):\n",
    "    for j in range(3):\n",
    "        for l in range(3):\n",
    "            for k in range(3):\n",
    "                Z[m,:]=np.matrix([i,j,l,k])\n",
    "                m=m+1"
   ]
  },
  {
   "cell_type": "code",
   "execution_count": 14,
   "metadata": {
    "collapsed": false
   },
   "outputs": [
    {
     "name": "stderr",
     "output_type": "stream",
     "text": [
      "C:\\Users\\dingd\\Anaconda2\\lib\\site-packages\\ipykernel\\__main__.py:2: DeprecationWarning: using a non-integer number instead of an integer will result in an error in the future\n",
      "  from ipykernel import kernelapp as app\n"
     ]
    }
   ],
   "source": [
    "for i in range(81):\n",
    "    P[i]=pi[Z[i,0]]*B[Z[i,0],s[0]]*A[Z[i,0],Z[i,1]]*B[Z[i,1],s[1]]*A[Z[i,1],Z[i,2]]*B[Z[i,2],s[2]]*A[Z[i,2],Z[i,3]]*B[Z[i,3],s[3]]"
   ]
  },
  {
   "cell_type": "code",
   "execution_count": 11,
   "metadata": {
    "collapsed": false
   },
   "outputs": [
    {
     "data": {
      "text/plain": [
       "matrix([[ 0.00288 ,  0.001728,  0.001152]])"
      ]
     },
     "execution_count": 11,
     "metadata": {},
     "output_type": "execute_result"
    }
   ],
   "source": [
    "i=1\n",
    "pi[Z[i,0]]*B[Z[i,0],s[0]]*A[Z[i,0],Z[i,1]]*B[Z[i,1],s[1]]*A[Z[i,1],Z[i,2]]*B[Z[i,2],s[2]]*A[Z[i,2],Z[i,3]]*B[Z[i,3],s[3]]"
   ]
  },
  {
   "cell_type": "code",
   "execution_count": 25,
   "metadata": {
    "collapsed": false
   },
   "outputs": [],
   "source": [
    "N1=np.argmax(P)\n",
    "First=Z[N1,:]"
   ]
  },
  {
   "cell_type": "code",
   "execution_count": 26,
   "metadata": {
    "collapsed": false
   },
   "outputs": [],
   "source": [
    "P1=np.append(np.append(P[0:N1],0),P[N1+1:])\n",
    "N2=np.argmax(P1)\n",
    "Second=Z[N2,:]"
   ]
  },
  {
   "cell_type": "code",
   "execution_count": 29,
   "metadata": {
    "collapsed": false
   },
   "outputs": [],
   "source": [
    "P2=np.append(np.append(P1[0:N2],0),P1[N2+1:])\n",
    "N3=np.argmax(P2)\n",
    "Third=Z[N3,:]"
   ]
  },
  {
   "cell_type": "code",
   "execution_count": 32,
   "metadata": {
    "collapsed": false
   },
   "outputs": [
    {
     "name": "stdout",
     "output_type": "stream",
     "text": [
      "0.0375 0.02 0.012\n"
     ]
    },
    {
     "name": "stderr",
     "output_type": "stream",
     "text": [
      "C:\\Users\\dingd\\Anaconda2\\lib\\site-packages\\ipykernel\\__main__.py:2: DeprecationWarning: using a non-integer number instead of an integer will result in an error in the future\n",
      "  from ipykernel import kernelapp as app\n",
      "C:\\Users\\dingd\\Anaconda2\\lib\\site-packages\\ipykernel\\__main__.py:3: DeprecationWarning: using a non-integer number instead of an integer will result in an error in the future\n",
      "  app.launch_new_instance()\n",
      "C:\\Users\\dingd\\Anaconda2\\lib\\site-packages\\ipykernel\\__main__.py:4: DeprecationWarning: using a non-integer number instead of an integer will result in an error in the future\n"
     ]
    }
   ],
   "source": [
    "#Qa1\n",
    "Firstpp=pi[First[0]]*A[First[0],First[1]]*A[First[1],First[2]]*A[First[2],First[3]]\n",
    "Secondpp=pi[Second[0]]*A[Second[0],Second[1]]*A[Second[1],Second[2]]*A[Second[2],Second[3]]\n",
    "Thirdpp=pi[Third[0]]*A[Third[0],Third[1]]*A[Third[1],Third[2]]*A[Third[2],Third[3]]\n",
    "print Firstpp,Secondpp,Thirdpp"
   ]
  },
  {
   "cell_type": "code",
   "execution_count": 33,
   "metadata": {
    "collapsed": false
   },
   "outputs": [
    {
     "name": "stdout",
     "output_type": "stream",
     "text": [
      "0.1 0.18 0.288\n"
     ]
    }
   ],
   "source": [
    "#Qa2\n",
    "Firstll=B[First[0],s[0]]*B[First[1],s[1]]*B[First[2],s[2]]*B[First[3],s[3]]\n",
    "Secondll=B[Second[0],s[0]]*B[Second[1],s[1]]*B[Second[2],s[2]]*B[Second[3],s[3]]\n",
    "Thirdll=B[Third[0],s[0]]*B[Third[1],s[1]]*B[Third[2],s[2]]*B[Third[3],s[3]]\n",
    "print Firstll,Secondll,Thirdll"
   ]
  },
  {
   "cell_type": "code",
   "execution_count": 40,
   "metadata": {
    "collapsed": false
   },
   "outputs": [
    {
     "name": "stdout",
     "output_type": "stream",
     "text": [
      "0.0735218577542 0.0705809834441 0.0677577441063\n"
     ]
    }
   ],
   "source": [
    "Firstpop=P[N1]/np.sum(P)\n",
    "Secondpop=P[N2]/np.sum(P)\n",
    "Thirdpop=P[N3]/np.sum(P)\n",
    "print Firstpop,Secondpop,Thirdpop"
   ]
  },
  {
   "cell_type": "code",
   "execution_count": 38,
   "metadata": {
    "collapsed": false
   },
   "outputs": [
    {
     "data": {
      "text/plain": [
       "0.0037499999999999999"
      ]
     },
     "execution_count": 38,
     "metadata": {},
     "output_type": "execute_result"
    }
   ],
   "source": []
  },
  {
   "cell_type": "code",
   "execution_count": null,
   "metadata": {
    "collapsed": true
   },
   "outputs": [],
   "source": []
  }
 ],
 "metadata": {
  "kernelspec": {
   "display_name": "Python 2",
   "language": "python",
   "name": "python2"
  },
  "language_info": {
   "codemirror_mode": {
    "name": "ipython",
    "version": 2
   },
   "file_extension": ".py",
   "mimetype": "text/x-python",
   "name": "python",
   "nbconvert_exporter": "python",
   "pygments_lexer": "ipython2",
   "version": "2.7.11"
  }
 },
 "nbformat": 4,
 "nbformat_minor": 0
}
