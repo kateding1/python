{
 "cells": [
  {
   "cell_type": "code",
   "execution_count": 1,
   "metadata": {
    "collapsed": true
   },
   "outputs": [],
   "source": [
    "from __future__ import division\n",
    "import numpy as np\n",
    "from matplotlib import pyplot as plt\n",
    "\n",
    "# Generate the data according to the specification in the homework description\n",
    "\n",
    "N = 500\n",
    "x = np.random.rand(N).reshape(500,1)\n",
    "\n",
    "pi0 = np.array([0.7, 0.3])\n",
    "w0 = np.array([-2, 1]).reshape(1,2)\n",
    "b0 = np.array([0.5, -0.5]).reshape(1,2)\n",
    "sigma0 = np.array([.4, .3])\n",
    "\n",
    "y = np.zeros_like(x)\n",
    "for i in range(N):\n",
    "    k = 0 if np.random.rand() < pi0[0] else 1\n",
    "    y[i] = w0[0,k]*x[i] + b0[0,k] + np.random.randn()*sigma0[k]\n",
    "\n",
    "\n",
    "# TODO: Implement the EM algorithm for Mixed Linear Regression based on observed\n",
    "# x and y values.\n",
    "\n",
    "\n",
    "# Here's the data plotted\n",
    "plt.scatter(x, y, c='r', marker='x')\n",
    "plt.show()\n",
    "\n",
    "    "
   ]
  },
  {
   "cell_type": "code",
   "execution_count": 2,
   "metadata": {
    "collapsed": false
   },
   "outputs": [],
   "source": [
    "#rebuilt the data\n",
    "N=500\n",
    "Intercept=np.ones((y.size,1))\n",
    "x1=np.concatenate((x,Intercept),axis=1)\n",
    "#w1=np.array([1,-1]).reshape(1,2)\n",
    "#b1=np.array([0,0]).reshape(1,2)\n",
    "wt1=np.array([1,0]).reshape(2,1)\n",
    "wt2=np.array([-1,0]).reshape(2,1)\n",
    "pi1=np.array([0.5,0.5])\n",
    "#wt=np.concatenate((w1,b1))\n",
    "sigma1=np.array([np.std(y),np.std(y)])\n",
    "from scipy.stats import norm\n",
    "R1=np.zeros(N)\n",
    "R2=np.zeros(N)\n",
    "for i in range(N):\n",
    "    R1[i]=pi1[0]*(norm.pdf(y[i],np.dot(x1[i,:].reshape(1,2),wt1),sigma1[0]))/(pi1[0]*(norm.pdf(y[i],np.dot(x1[i,:].reshape(1,2),wt1),sigma1[0]))+pi1[1]*(norm.pdf(y[i],np.dot(x1[i,:].reshape(1,2),wt2),sigma1[1])))\n",
    "    R2[i]=1-R1[i]\n",
    "#maxlikelihood\n",
    "def lg(pi1,w1,w2,x1,sigma):\n",
    "    a=0\n",
    "    for i in range(N):\n",
    "        a=a+np.log(pi1[0]*(norm.pdf(y[i],np.dot(x1[i,:].reshape(1,2),w1),sigma[0]))+pi1[1]*(norm.pdf(y[i],np.dot(x1[i,:].reshape(1,2),w2),sigma[1])))\n",
    "    return a\n",
    "#update\n",
    "def pi(R1,R2,N):\n",
    "    b=np.zeros(2)\n",
    "    b[0]=np.sum(R1)/N\n",
    "    b[1]=np.sum(R2)/N\n",
    "    return b\n",
    "\n",
    "def w(R1,R2,x1,y):\n",
    "    R11=np.diag(R1)\n",
    "    R22=np.diag(R2)   \n",
    "    w11=np.dot(np.dot(np.dot(np.linalg.inv(np.dot(np.dot(x1.T,R11),x1)),x1.T),R11),y)\n",
    "    w12=np.dot(np.dot(np.dot(np.linalg.inv(np.dot(np.dot(x1.T,R22),x1)),x1.T),R22),y)\n",
    "    return w11,w12\n",
    "\n",
    "def s(R1,R2,y,w1,w2,x1):\n",
    "    s=np.zeros(2)\n",
    "    R11=np.diag(R1)\n",
    "    R22=np.diag(R2) \n",
    "    s[0]=np.sqrt((x1.dot(w1)-y).T.dot(R11).dot(x1.dot(w1)-y)/np.sum(R1))\n",
    "    s[1]=np.sqrt((x1.dot(w2)-y).T.dot(R22).dot(x1.dot(w2)-y)/np.sum(R2))\n",
    "    return s\n",
    "j=0\n",
    "lg0=lg(pi1,wt1,wt2,x1,sigma1)\n",
    "pi1=pi(R1,R2,N)\n",
    "wt1,wt2=w(R1,R2,x1,y)\n",
    "sigma1=s(R1,R2,y,wt1,wt2,x1)\n",
    "lg1=np.append(lg0,lg(pi1,wt1,wt2,x1,sigma1))\n",
    "while np.abs(lg1[j+1]-lg1[j])>10**(-4):\n",
    "    for i in range(N):\n",
    "        R1[i]=pi1[0]*(norm.pdf(y[i],np.dot(x1[i,:].reshape(1,2),wt1),sigma1[0]))/(pi1[0]*(norm.pdf(y[i],np.dot(x1[i,:].reshape(1,2),wt1),sigma1[0]))+pi1[1]*(norm.pdf(y[i],np.dot(x1[i,:].reshape(1,2),wt2),sigma1[1])))\n",
    "        R2[i]=1-R1[i]\n",
    "    pi1=pi(R1,R2,N)\n",
    "    wt1,wt2=w(R1,R2,x1,y)\n",
    "    sigma1=s(R1,R2,y,wt1,wt2,x1)\n",
    "    lg1=np.append(lg1,lg(pi1,wt1,wt2,x1,sigma1))\n",
    "    j=j+1"
   ]
  },
  {
   "cell_type": "code",
   "execution_count": 4,
   "metadata": {
    "collapsed": false
   },
   "outputs": [
    {
     "name": "stdout",
     "output_type": "stream",
     "text": [
      "[ 0.30606732  0.69393268] [[ 1.00135633]\n",
      " [-0.50474549]] [[-1.95295001]\n",
      " [ 0.50580164]] [ 0.30613885  0.39743446]\n"
     ]
    }
   ],
   "source": [
    "print pi1,wt1,wt2,sigma1"
   ]
  },
  {
   "cell_type": "code",
   "execution_count": 5,
   "metadata": {
    "collapsed": false
   },
   "outputs": [
    {
     "name": "stdout",
     "output_type": "stream",
     "text": [
      "[ 0  1  2  3  4  5  6  7  8  9 10 11 12 13 14 15 16 17 18 19]\n"
     ]
    }
   ],
   "source": [
    "M=np.arange(lg1.size)\n",
    "print M\n",
    "plt.plot(M,lg1)\n",
    "plt.show()"
   ]
  },
  {
   "cell_type": "code",
   "execution_count": null,
   "metadata": {
    "collapsed": false
   },
   "outputs": [],
   "source": [
    "plt.scatter(x, y, c='r', marker='x')\n",
    "plt.scatter(x,np.dot(x1,wt1))\n",
    "plt.scatter(x,np.dot(x1,wt2))\n",
    "plt.show()"
   ]
  },
  {
   "cell_type": "code",
   "execution_count": 55,
   "metadata": {
    "collapsed": true
   },
   "outputs": [],
   "source": []
  },
  {
   "cell_type": "code",
   "execution_count": 56,
   "metadata": {
    "collapsed": true
   },
   "outputs": [],
   "source": []
  },
  {
   "cell_type": "code",
   "execution_count": 57,
   "metadata": {
    "collapsed": false
   },
   "outputs": [
    {
     "name": "stdout",
     "output_type": "stream",
     "text": [
      "[[-533.68714225]] [[-389.35813989]] [[-372.0022108]] [[-364.93585225]]\n"
     ]
    }
   ],
   "source": []
  },
  {
   "cell_type": "code",
   "execution_count": 58,
   "metadata": {
    "collapsed": true
   },
   "outputs": [],
   "source": []
  },
  {
   "cell_type": "code",
   "execution_count": 59,
   "metadata": {
    "collapsed": true
   },
   "outputs": [],
   "source": []
  },
  {
   "cell_type": "code",
   "execution_count": 60,
   "metadata": {
    "collapsed": false
   },
   "outputs": [
    {
     "name": "stdout",
     "output_type": "stream",
     "text": [
      "[[-533.68714225]] [[-389.35813989]] [[-372.0022108]] [[-360.48236703]]\n"
     ]
    }
   ],
   "source": []
  },
  {
   "cell_type": "code",
   "execution_count": 61,
   "metadata": {
    "collapsed": true
   },
   "outputs": [],
   "source": []
  },
  {
   "cell_type": "code",
   "execution_count": 62,
   "metadata": {
    "collapsed": true
   },
   "outputs": [],
   "source": []
  },
  {
   "cell_type": "code",
   "execution_count": 63,
   "metadata": {
    "collapsed": false
   },
   "outputs": [
    {
     "name": "stdout",
     "output_type": "stream",
     "text": [
      "[[-533.68714225]] [[-389.35813989]] [[-372.0022108]] [[-357.94892897]]\n"
     ]
    }
   ],
   "source": []
  },
  {
   "cell_type": "code",
   "execution_count": null,
   "metadata": {
    "collapsed": true
   },
   "outputs": [],
   "source": []
  }
 ],
 "metadata": {
  "kernelspec": {
   "display_name": "Python 2",
   "language": "python",
   "name": "python2"
  },
  "language_info": {
   "codemirror_mode": {
    "name": "ipython",
    "version": 2
   },
   "file_extension": ".py",
   "mimetype": "text/x-python",
   "name": "python",
   "nbconvert_exporter": "python",
   "pygments_lexer": "ipython2",
   "version": "2.7.11"
  }
 },
 "nbformat": 4,
 "nbformat_minor": 0
}
