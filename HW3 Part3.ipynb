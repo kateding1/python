{
 "cells": [
  {
   "cell_type": "code",
   "execution_count": 27,
   "metadata": {
    "collapsed": false
   },
   "outputs": [],
   "source": [
    "import numpy as np\n",
    "#import data\n",
    "data=np.loadtxt(\"steel_composition_train.csv\",delimiter=\",\", skiprows=1,usecols=(1,2,3,4,5,6,7,8,9))\n",
    "X=data[:,:-1] #X is a feature set\n",
    "Y=data[:,-1] #Y is an array with target value\n",
    "#normalized\n",
    "X=(X-np.mean(X,0))/np.std(X,0)\n",
    "#get y with kernel\n",
    "k0=np.dot(X,X.T)\n",
    "I=np.identity(k0[:,1].size)\n",
    "E=np.zeros(4)\n",
    "for i in range(3):\n",
    "    k=np.power((k0+1),i+2)\n",
    "    a=np.dot(np.linalg.inv((I+k)),Y)\n",
    "    Ypre=np.dot(a.T,k)\n",
    "    E[i]=np.dot(Ypre,Ypre.T)-2*np.dot(Y.T,Ypre.T)+np.dot(Y.T,Y)+np.dot(Ypre,a)\n",
    "k4=np.zeros((k0[:,1].size,k0[:,1].size))\n",
    "for i in range(k0[:,1].size):\n",
    "    for j in range(k0[:,1].size):\n",
    "        k4[i,j]=np.exp(-np.power(np.linalg.norm(X[i,:]-X[j,:]),2)/2)\n",
    "a=np.dot(np.linalg.inv((I+k4)),Y)\n",
    "Ypre=np.dot(a.T,k4)\n",
    "E[3]=np.dot(Ypre,Ypre.T)-2*np.dot(Y.T,Ypre.T)+np.dot(Y.T,Y)+np.dot(Ypre,a)        \n",
    "RMSE=np.sqrt(E/Y.size)\n"
   ]
  },
  {
   "cell_type": "code",
   "execution_count": 28,
   "metadata": {
    "collapsed": false
   },
   "outputs": [
    {
     "data": {
      "text/plain": [
       "array([  7.41955281,   4.83144123,   2.96214783,  13.18899638])"
      ]
     },
     "execution_count": 28,
     "metadata": {},
     "output_type": "execute_result"
    }
   ],
   "source": []
  },
  {
   "cell_type": "code",
   "execution_count": null,
   "metadata": {
    "collapsed": true
   },
   "outputs": [],
   "source": []
  }
 ],
 "metadata": {
  "kernelspec": {
   "display_name": "Python 2",
   "language": "python",
   "name": "python2"
  },
  "language_info": {
   "codemirror_mode": {
    "name": "ipython",
    "version": 2
   },
   "file_extension": ".py",
   "mimetype": "text/x-python",
   "name": "python",
   "nbconvert_exporter": "python",
   "pygments_lexer": "ipython2",
   "version": "2.7.11"
  }
 },
 "nbformat": 4,
 "nbformat_minor": 0
}
