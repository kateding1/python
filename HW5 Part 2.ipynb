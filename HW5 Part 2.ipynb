{
 "cells": [
  {
   "cell_type": "code",
   "execution_count": 9,
   "metadata": {
    "collapsed": false
   },
   "outputs": [],
   "source": [
    "import numpy as np\n",
    "#import matrixs\n",
    "A=np.matrix([[0.5,0.2,0.3],[0.2,0.4,0.4],[0.4,0.1,0.5]])\n",
    "B=np.matrix([[0.8,0.2],[0.1,0.9],[0.5,0.5]])\n",
    "pi=np.matrix([0.5,0.3,0.2])\n",
    "s=np.array([0,1,0,1])"
   ]
  },
  {
   "cell_type": "code",
   "execution_count": 11,
   "metadata": {
    "collapsed": false
   },
   "outputs": [],
   "source": [
    "#get beta\n",
    "Beta=np.zeros([3,4])\n",
    "for i in range(3):\n",
    "    Beta[i,3]=B[i,s[3]]\n",
    "for i in range(3):\n",
    "    for j in range(3):\n",
    "        Beta[i,2]=Beta[i,2]+A[i,j]*B[j,s[3]]*Beta[j,3]\n",
    "for i in range(3):\n",
    "    for j in range(3):\n",
    "        Beta[i,1]=Beta[i,1]+A[i,j]*B[j,s[2]]*Beta[j,2]\n",
    "for i in range(3):\n",
    "    for j in range(3):\n",
    "        Beta[i,0]=Beta[i,0]+A[i,j]*B[j,s[1]]*Beta[j,1]"
   ]
  },
  {
   "cell_type": "code",
   "execution_count": 14,
   "metadata": {
    "collapsed": false
   },
   "outputs": [],
   "source": [
    "#get alpha\n",
    "alpha=np.zeros([3,4])\n",
    "for i in range(3):\n",
    "    alpha[i,0]=B[i,s[0]]\n",
    "for i in range(3):\n",
    "    for j in range(3):\n",
    "        alpha[i,1]=alpha[i,1]+alpha[j,0]*A[j,i]\n",
    "    alpha[i,1]=alpha[i,1]*B[i,s[1]]\n",
    "for i in range(3):\n",
    "    for j in range(3):\n",
    "        alpha[i,2]=alpha[i,2]+alpha[j,1]*A[j,i]\n",
    "    alpha[i,2]=alpha[i,2]*B[i,s[2]]\n",
    "for i in range(3):\n",
    "    for j in range(3):\n",
    "        alpha[i,3]=alpha[i,3]+alpha[j,2]*A[j,i]\n",
    "    alpha[i,3]=alpha[i,3]*B[i,s[3]]"
   ]
  },
  {
   "cell_type": "code",
   "execution_count": 15,
   "metadata": {
    "collapsed": true
   },
   "outputs": [],
   "source": [
    "#posterior probability\n",
    "p=np.zeros([3,4])\n",
    "for i in range(4):\n",
    "    for j in range(3):\n",
    "        p[j,i]=alpha[j,i]*Beta[j,i]/(alpha[0,i]*Beta[0,i]+alpha[1,i]*Beta[1,i]+alpha[2,j]*Beta[2,1])"
   ]
  },
  {
   "cell_type": "code",
   "execution_count": 19,
   "metadata": {
    "collapsed": false
   },
   "outputs": [
    {
     "name": "stdout",
     "output_type": "stream",
     "text": [
      "[2 2 2 1]\n"
     ]
    }
   ],
   "source": [
    "#find "
   ]
  },
  {
   "cell_type": "code",
   "execution_count": null,
   "metadata": {
    "collapsed": true
   },
   "outputs": [],
   "source": []
  }
 ],
 "metadata": {
  "kernelspec": {
   "display_name": "Python 2",
   "language": "python",
   "name": "python2"
  },
  "language_info": {
   "codemirror_mode": {
    "name": "ipython",
    "version": 2
   },
   "file_extension": ".py",
   "mimetype": "text/x-python",
   "name": "python",
   "nbconvert_exporter": "python",
   "pygments_lexer": "ipython2",
   "version": "2.7.11"
  }
 },
 "nbformat": 4,
 "nbformat_minor": 0
}
