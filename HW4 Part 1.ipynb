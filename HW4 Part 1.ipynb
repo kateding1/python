{
 "cells": [
  {
   "cell_type": "code",
   "execution_count": 1,
   "metadata": {
    "collapsed": false
   },
   "outputs": [
    {
     "name": "stdout",
     "output_type": "stream",
     "text": [
      "8466.91506885\n"
     ]
    }
   ],
   "source": [
    "### from __future__ import division\n",
    "import numpy as np\n",
    "from scipy.special import gammaln, polygamma\n",
    "from matplotlib import pyplot as plt\n",
    "# Generate the data according to the specification in the homework description\n",
    "   \n",
    "N = 1000\n",
    "m = 5\n",
    "alpha = np.array([10, 5, 15, 20, 50])\n",
    "P = np.random.dirichlet(alpha, N)\n",
    "t=((np.log(P)).sum(axis=0))/N\n",
    "\n",
    "#loglikelihood with true parameter\n",
    "F=N*(np.dot((alpha-1),t)+(gammaln(np.sum(alpha))-np.sum(gammaln(alpha))))\n",
    "print F\n",
    "#Newton method\n",
    "alpha0=np.array([1,1,1,1,1])\n",
    "F1=[0,1]\n",
    "i=0\n",
    "while np.abs(F1[i+1]-F1[i]) >=10**(-4):\n",
    "    G=N*(t+polygamma(0,np.sum(alpha0))-polygamma(0,alpha0))\n",
    "    #Hessian\n",
    "    Q=np.diag((-N)*polygamma(1,alpha0))\n",
    "    b=np.ones((5,5))\n",
    "    bt=np.ones((5,1))\n",
    "    c=N*polygamma(1,np.sum(alpha0))\n",
    "    H=np.linalg.inv(Q)-(c*(np.linalg.inv(Q).dot(b).dot(np.linalg.inv(Q))))/(1+(c*(np.dot(np.dot(bt.T,np.linalg.inv(Q)),bt))))\n",
    "    \n",
    "    #update\n",
    "    alpha0=alpha0-np.dot(H,G)\n",
    "    F1=np.append(F1,N*(np.dot((alpha0-1),t)+(gammaln(np.sum(alpha0))-np.sum(gammaln(alpha0)))))\n",
    "    i=i+1"
   ]
  },
  {
   "cell_type": "code",
   "execution_count": 3,
   "metadata": {
    "collapsed": false
   },
   "outputs": [],
   "source": [
    "F2=F1[2:]\n",
    "M=np.arange(i)\n",
    "plt.plot(M,F2,\"-g\",(0,i),(F,F),\"-b\")\n",
    "plt.show()"
   ]
  },
  {
   "cell_type": "code",
   "execution_count": 2,
   "metadata": {
    "collapsed": false,
    "scrolled": true
   },
   "outputs": [
    {
     "data": {
      "text/plain": [
       "array([  9.7913496 ,   4.7818326 ,  14.56371231,  19.34694717,  48.46071097])"
      ]
     },
     "execution_count": 2,
     "metadata": {},
     "output_type": "execute_result"
    }
   ],
   "source": [
    "alpha0"
   ]
  },
  {
   "cell_type": "code",
   "execution_count": 2,
   "metadata": {
    "collapsed": false
   },
   "outputs": [
    {
     "data": {
      "text/plain": [
       "array([  0.00000000e+00,   1.00000000e+00,   4.46525956e+03,\n",
       "         5.62751463e+03,   6.71003880e+03,   7.59790274e+03,\n",
       "         8.17780977e+03,   8.42337588e+03,   8.46840576e+03,\n",
       "         8.47007767e+03,   8.47008033e+03,   8.47008033e+03])"
      ]
     },
     "execution_count": 2,
     "metadata": {},
     "output_type": "execute_result"
    }
   ],
   "source": [
    "F1"
   ]
  },
  {
   "cell_type": "code",
   "execution_count": null,
   "metadata": {
    "collapsed": true
   },
   "outputs": [],
   "source": []
  }
 ],
 "metadata": {
  "kernelspec": {
   "display_name": "Python 2",
   "language": "python",
   "name": "python2"
  },
  "language_info": {
   "codemirror_mode": {
    "name": "ipython",
    "version": 2
   },
   "file_extension": ".py",
   "mimetype": "text/x-python",
   "name": "python",
   "nbconvert_exporter": "python",
   "pygments_lexer": "ipython2",
   "version": "2.7.11"
  }
 },
 "nbformat": 4,
 "nbformat_minor": 0
}
