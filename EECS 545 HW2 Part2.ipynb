{
 "cells": [
  {
   "cell_type": "code",
   "execution_count": 6,
   "metadata": {
    "collapsed": false
   },
   "outputs": [
    {
     "name": "stdout",
     "output_type": "stream",
     "text": [
      "showing info http://www.nltk.org/nltk_data/\n"
     ]
    }
   ],
   "source": [
    "import os\n",
    "import nltk\n",
    "nltk.download()\n",
    "from nltk.stem import WordNetLemmatizer\n",
    "from nltk.corpus import stopwords\n",
    "from sklearn.feature_extraction.text import CountVectorizer\n",
    "import cPickle\n",
    "\n",
    "\n",
    "def getFeature():\n",
    "    with open(os.path.join('spam_filter_train.txt'), 'r') as f:\n",
    "        trainData = f.readlines()\n",
    "    with open(os.path.join('spam_filter_test.txt'), 'r') as f:\n",
    "        testData = f.readlines()\n",
    "    data = trainData + testData\n",
    "    trainNum, testNum = len(trainData), len(testData)\n",
    "    del trainData\n",
    "    del testData\n",
    "\n",
    "    for i in range(len(data)):\n",
    "        data[i] = data[i].replace('\\n', '').split('\\t')[1]\n",
    "    # lemmatize\n",
    "    lemmatized = []\n",
    "    wnl = WordNetLemmatizer()\n",
    "    for line in data:\n",
    "        lemmatized.append([wnl.lemmatize(word) for word in line.split(' ')])\n",
    "    # remove stopwords\n",
    "    stopwordRemoved = []\n",
    "    sw = set(stopwords.words('english'))\n",
    "    for line in lemmatized:\n",
    "        stopwordRemoved.append(' '.join([x for x in line if x not in sw]))\n",
    "    # tf feature\n",
    "    vec = CountVectorizer()\n",
    "    features = vec.fit_transform(stopwordRemoved)\n",
    "\n",
    "    with open('trainFeatures.pkl', 'wb') as f:\n",
    "        cPickle.dump(features[:trainNum], f)\n",
    "    with open('testFeatures.pkl', 'wb') as f:\n",
    "        cPickle.dump(features[trainNum:], f)\n",
    "\n",
    "def main():\n",
    "    getFeature()\n",
    "    '''\n",
    "    with open('trainFeatures.pkl', 'rb') as f:\n",
    "         trainFeatures = cPickle.load(f)\n",
    "    with open('testFeatures.pkl', 'rb') as f:\n",
    "         testFeatures = cPickle.load(f)\n",
    "    '''\n",
    "\n",
    "\n",
    "if __name__ == '__main__':\n",
    "    main()"
   ]
  },
  {
   "cell_type": "code",
   "execution_count": 32,
   "metadata": {
    "collapsed": false
   },
   "outputs": [
    {
     "name": "stdout",
     "output_type": "stream",
     "text": [
      "(2602, 47922)\n",
      "(2570, 47922)\n",
      "(2570L,)\n"
     ]
    },
    {
     "ename": "KeyboardInterrupt",
     "evalue": "",
     "output_type": "error",
     "traceback": [
      "\u001b[1;31m---------------------------------------------------------------------------\u001b[0m",
      "\u001b[1;31mKeyboardInterrupt\u001b[0m                         Traceback (most recent call last)",
      "\u001b[1;32m<ipython-input-32-ed2de098a70d>\u001b[0m in \u001b[0;36m<module>\u001b[1;34m()\u001b[0m\n\u001b[0;32m     23\u001b[0m         \u001b[1;32mif\u001b[0m \u001b[0mtrainFeatures\u001b[0m\u001b[1;33m[\u001b[0m\u001b[0mi\u001b[0m\u001b[1;33m,\u001b[0m\u001b[0mj\u001b[0m\u001b[1;33m]\u001b[0m\u001b[1;33m==\u001b[0m\u001b[1;36m1\u001b[0m \u001b[1;32mand\u001b[0m \u001b[0mY\u001b[0m\u001b[1;33m[\u001b[0m\u001b[0mi\u001b[0m\u001b[1;33m]\u001b[0m\u001b[1;33m==\u001b[0m\u001b[1;36m1\u001b[0m\u001b[1;33m:\u001b[0m\u001b[1;33m\u001b[0m\u001b[0m\n\u001b[0;32m     24\u001b[0m             \u001b[0mcount1\u001b[0m\u001b[1;33m=\u001b[0m\u001b[0mcount1\u001b[0m\u001b[1;33m+\u001b[0m\u001b[1;36m1\u001b[0m\u001b[1;33m\u001b[0m\u001b[0m\n\u001b[1;32m---> 25\u001b[1;33m         \u001b[1;32melif\u001b[0m \u001b[0mtrainFeatures\u001b[0m\u001b[1;33m[\u001b[0m\u001b[0mi\u001b[0m\u001b[1;33m,\u001b[0m\u001b[0mj\u001b[0m\u001b[1;33m]\u001b[0m\u001b[1;33m==\u001b[0m\u001b[1;36m0\u001b[0m \u001b[1;32mand\u001b[0m \u001b[0mY\u001b[0m\u001b[1;33m[\u001b[0m\u001b[0mi\u001b[0m\u001b[1;33m]\u001b[0m\u001b[1;33m==\u001b[0m\u001b[1;36m1\u001b[0m\u001b[1;33m:\u001b[0m\u001b[1;33m\u001b[0m\u001b[0m\n\u001b[0m\u001b[0;32m     26\u001b[0m             \u001b[0mcount1\u001b[0m\u001b[1;33m=\u001b[0m\u001b[0mcount1\u001b[0m\u001b[1;33m\u001b[0m\u001b[0m\n\u001b[0;32m     27\u001b[0m         \u001b[1;32mif\u001b[0m \u001b[0mY\u001b[0m\u001b[1;33m[\u001b[0m\u001b[0mi\u001b[0m\u001b[1;33m]\u001b[0m\u001b[1;33m==\u001b[0m\u001b[1;36m0\u001b[0m \u001b[1;32mand\u001b[0m \u001b[0mtrainFeatures\u001b[0m\u001b[1;33m[\u001b[0m\u001b[0mi\u001b[0m\u001b[1;33m,\u001b[0m\u001b[0mj\u001b[0m\u001b[1;33m]\u001b[0m\u001b[1;33m==\u001b[0m\u001b[1;36m1\u001b[0m\u001b[1;33m:\u001b[0m\u001b[1;33m\u001b[0m\u001b[0m\n",
      "\u001b[1;32mC:\\Users\\dingd\\Anaconda2\\lib\\site-packages\\scipy\\sparse\\csr.pyc\u001b[0m in \u001b[0;36m__getitem__\u001b[1;34m(self, key)\u001b[0m\n\u001b[0;32m    267\u001b[0m             \u001b[1;31m# [i, j]\u001b[0m\u001b[1;33m\u001b[0m\u001b[1;33m\u001b[0m\u001b[0m\n\u001b[0;32m    268\u001b[0m             \u001b[1;32mif\u001b[0m \u001b[0misintlike\u001b[0m\u001b[1;33m(\u001b[0m\u001b[0mcol\u001b[0m\u001b[1;33m)\u001b[0m\u001b[1;33m:\u001b[0m\u001b[1;33m\u001b[0m\u001b[0m\n\u001b[1;32m--> 269\u001b[1;33m                 \u001b[1;32mreturn\u001b[0m \u001b[0mself\u001b[0m\u001b[1;33m.\u001b[0m\u001b[0m_get_single_element\u001b[0m\u001b[1;33m(\u001b[0m\u001b[0mrow\u001b[0m\u001b[1;33m,\u001b[0m \u001b[0mcol\u001b[0m\u001b[1;33m)\u001b[0m\u001b[1;33m\u001b[0m\u001b[0m\n\u001b[0m\u001b[0;32m    270\u001b[0m             \u001b[1;31m# [i, 1:2]\u001b[0m\u001b[1;33m\u001b[0m\u001b[1;33m\u001b[0m\u001b[0m\n\u001b[0;32m    271\u001b[0m             \u001b[1;32melif\u001b[0m \u001b[0misinstance\u001b[0m\u001b[1;33m(\u001b[0m\u001b[0mcol\u001b[0m\u001b[1;33m,\u001b[0m \u001b[0mslice\u001b[0m\u001b[1;33m)\u001b[0m\u001b[1;33m:\u001b[0m\u001b[1;33m\u001b[0m\u001b[0m\n",
      "\u001b[1;32mC:\\Users\\dingd\\Anaconda2\\lib\\site-packages\\scipy\\sparse\\compressed.pyc\u001b[0m in \u001b[0;36m_get_single_element\u001b[1;34m(self, row, col)\u001b[0m\n\u001b[0;32m    835\u001b[0m         \u001b[1;31m# can use np.add(..., where) from numpy 1.7\u001b[0m\u001b[1;33m\u001b[0m\u001b[1;33m\u001b[0m\u001b[0m\n\u001b[0;32m    836\u001b[0m         return np.compress(minor_index == self.indices[start:end],\n\u001b[1;32m--> 837\u001b[1;33m                            self.data[start:end]).sum(dtype=self.dtype)\n\u001b[0m\u001b[0;32m    838\u001b[0m \u001b[1;33m\u001b[0m\u001b[0m\n\u001b[0;32m    839\u001b[0m     \u001b[1;32mdef\u001b[0m \u001b[0m_get_slice\u001b[0m\u001b[1;33m(\u001b[0m\u001b[0mself\u001b[0m\u001b[1;33m,\u001b[0m \u001b[0mi\u001b[0m\u001b[1;33m,\u001b[0m \u001b[0mstart\u001b[0m\u001b[1;33m,\u001b[0m \u001b[0mstop\u001b[0m\u001b[1;33m,\u001b[0m \u001b[0mstride\u001b[0m\u001b[1;33m,\u001b[0m \u001b[0mshape\u001b[0m\u001b[1;33m)\u001b[0m\u001b[1;33m:\u001b[0m\u001b[1;33m\u001b[0m\u001b[0m\n",
      "\u001b[1;32mC:\\Users\\dingd\\Anaconda2\\lib\\site-packages\\numpy\\core\\fromnumeric.pyc\u001b[0m in \u001b[0;36mcompress\u001b[1;34m(condition, a, axis, out)\u001b[0m\n\u001b[0;32m   1671\u001b[0m     \u001b[1;32mexcept\u001b[0m \u001b[0mAttributeError\u001b[0m\u001b[1;33m:\u001b[0m\u001b[1;33m\u001b[0m\u001b[0m\n\u001b[0;32m   1672\u001b[0m         \u001b[1;32mreturn\u001b[0m \u001b[0m_wrapit\u001b[0m\u001b[1;33m(\u001b[0m\u001b[0ma\u001b[0m\u001b[1;33m,\u001b[0m \u001b[1;34m'compress'\u001b[0m\u001b[1;33m,\u001b[0m \u001b[0mcondition\u001b[0m\u001b[1;33m,\u001b[0m \u001b[0maxis\u001b[0m\u001b[1;33m,\u001b[0m \u001b[0mout\u001b[0m\u001b[1;33m)\u001b[0m\u001b[1;33m\u001b[0m\u001b[0m\n\u001b[1;32m-> 1673\u001b[1;33m     \u001b[1;32mreturn\u001b[0m \u001b[0mcompress\u001b[0m\u001b[1;33m(\u001b[0m\u001b[0mcondition\u001b[0m\u001b[1;33m,\u001b[0m \u001b[0maxis\u001b[0m\u001b[1;33m,\u001b[0m \u001b[0mout\u001b[0m\u001b[1;33m)\u001b[0m\u001b[1;33m\u001b[0m\u001b[0m\n\u001b[0m\u001b[0;32m   1674\u001b[0m \u001b[1;33m\u001b[0m\u001b[0m\n\u001b[0;32m   1675\u001b[0m \u001b[1;33m\u001b[0m\u001b[0m\n",
      "\u001b[1;31mKeyboardInterrupt\u001b[0m: "
     ]
    }
   ],
   "source": [
    "with open('trainFeatures.pkl', 'rb') as f:\n",
    "    trainFeatures = cPickle.load(f)\n",
    "with open('testFeatures.pkl', 'rb') as f:\n",
    "    testFeatures = cPickle.load(f)\n",
    "import numpy as np\n",
    "print testFeatures.shape\n",
    "print trainFeatures.shape\n",
    "testFeatures=testFeatures.toarray()\n",
    "trainFeatures=trainFeatures.toarray()\n",
    "Y1=np.zeros(1850)\n",
    "Y2=np.ones(720)\n",
    "Y=np.concatenate((Y1,Y2))\n",
    "print Y.shape\n",
    "#In train data\n",
    "#pie\n",
    "pspam=(np.float16(Y1.size+1))/(np.float16(Y.size+2))\n",
    "pham=1-pspam\n",
    "#sita\n",
    "Qspam=np.zeros((2570,1))#conditional on spam\n",
    "Qham=np.zeros((2570,1))#conditional on ham\n",
    "def con(a,b):\n",
    "    if a==1 and b==1: \n",
    "        c=1\n",
    "    elif a==2 and b==1:\n",
    "        c=0\n",
    "    if b==0 and a==1:\n",
    "        c=1\n",
    "    else:\n",
    "        c=0\n",
    "    return c\n",
    "for i in range(0,2570):\n",
    "    count1=0\n",
    "    count2=0\n",
    "    for j in range(0,47922):\n",
    "        count1=count1+con(trainFeatures[i,j],Y[i])\n",
    "        count2=count2+con(trainFeatures[i,j],Y[i])\n",
    "    Qspam[i,0]=np.float16((count1+1))/np.float16(Y1.size+2)\n",
    "    Qham[i,0]=np.float16((count2+1))/np.float16(Y2.size+2)\n",
    "print Qspam\n",
    "print Qham    \n",
    "#use it for test data\n",
    "Z=np.zeros((47922,1))\n",
    "\n",
    "for i in range(0,47922):\n",
    "    ppspam=1\n",
    "    ppham=1\n",
    "    for j in range(0,2602):\n",
    "        if testFeatures[j.i]==1:\n",
    "            ppspam=ppspam*Qspam[j,0]\n",
    "            ppham=ppham*Qham[j,0]\n",
    "        else:\n",
    "            ppspam=ppspam*(1-Qspam[j,0])\n",
    "            ppham=ppham*(1-Qham[j,0])\n",
    "    ppspam=ppspam*pspam\n",
    "    ppham=ppham*pham\n",
    "    if ppspam>ppham:\n",
    "        Z[i,0]=1\n",
    "    else:\n",
    "        Z[i,0]=0\n",
    "Z"
   ]
  },
  {
   "cell_type": "code",
   "execution_count": null,
   "metadata": {
    "collapsed": false
   },
   "outputs": [],
   "source": [
    "Y1=np.matrix(np.zeros((1850,1)))\n",
    "Y2=np.matrix(np.ones((720,1)))\n",
    "print Y1.shape"
   ]
  },
  {
   "cell_type": "code",
   "execution_count": 29,
   "metadata": {
    "collapsed": false
   },
   "outputs": [
    {
     "name": "stdout",
     "output_type": "stream",
     "text": [
      "(2602, 47922)\n",
      "(2570, 47922)\n"
     ]
    },
    {
     "ename": "IndexError",
     "evalue": "index 2570 is out of bounds for axis 0 with size 2570",
     "output_type": "error",
     "traceback": [
      "\u001b[1;31m---------------------------------------------------------------------------\u001b[0m",
      "\u001b[1;31mIndexError\u001b[0m                                Traceback (most recent call last)",
      "\u001b[1;32m<ipython-input-29-c473a61e4cd5>\u001b[0m in \u001b[0;36m<module>\u001b[1;34m()\u001b[0m\n\u001b[0;32m      2\u001b[0m \u001b[1;32mprint\u001b[0m \u001b[0mtrainFeatures\u001b[0m\u001b[1;33m.\u001b[0m\u001b[0mshape\u001b[0m\u001b[1;33m\u001b[0m\u001b[0m\n\u001b[0;32m      3\u001b[0m \u001b[0mtrainFeatures\u001b[0m\u001b[1;33m[\u001b[0m\u001b[1;36m2569\u001b[0m\u001b[1;33m,\u001b[0m\u001b[1;36m28495\u001b[0m\u001b[1;33m]\u001b[0m\u001b[1;33m\u001b[0m\u001b[0m\n\u001b[1;32m----> 4\u001b[1;33m \u001b[0mY\u001b[0m\u001b[1;33m[\u001b[0m\u001b[1;36m2570\u001b[0m\u001b[1;33m]\u001b[0m\u001b[1;33m\u001b[0m\u001b[0m\n\u001b[0m",
      "\u001b[1;31mIndexError\u001b[0m: index 2570 is out of bounds for axis 0 with size 2570"
     ]
    }
   ],
   "source": [
    "print testFeatures.shape\n",
    "print trainFeatures.shape\n",
    "trainFeatures[2569,28495]\n",
    "Y[2570]"
   ]
  },
  {
   "cell_type": "code",
   "execution_count": 33,
   "metadata": {
    "collapsed": false
   },
   "outputs": [
    {
     "name": "stdout",
     "output_type": "stream",
     "text": [
      "(2602, 47922)\n",
      "(2570, 47922)\n",
      "(2570L,)\n"
     ]
    },
    {
     "ename": "KeyboardInterrupt",
     "evalue": "",
     "output_type": "error",
     "traceback": [
      "\u001b[1;31m---------------------------------------------------------------------------\u001b[0m",
      "\u001b[1;31mKeyboardInterrupt\u001b[0m                         Traceback (most recent call last)",
      "\u001b[1;32m<ipython-input-33-42d53a86281d>\u001b[0m in \u001b[0;36m<module>\u001b[1;34m()\u001b[0m\n\u001b[0;32m     31\u001b[0m     \u001b[0mcount2\u001b[0m\u001b[1;33m=\u001b[0m\u001b[1;36m0\u001b[0m\u001b[1;33m\u001b[0m\u001b[0m\n\u001b[0;32m     32\u001b[0m     \u001b[1;32mfor\u001b[0m \u001b[0mj\u001b[0m \u001b[1;32min\u001b[0m \u001b[0mrange\u001b[0m\u001b[1;33m(\u001b[0m\u001b[1;36m0\u001b[0m\u001b[1;33m,\u001b[0m\u001b[1;36m47922\u001b[0m\u001b[1;33m)\u001b[0m\u001b[1;33m:\u001b[0m\u001b[1;33m\u001b[0m\u001b[0m\n\u001b[1;32m---> 33\u001b[1;33m         \u001b[0mcount1\u001b[0m\u001b[1;33m=\u001b[0m\u001b[0mcount1\u001b[0m\u001b[1;33m+\u001b[0m\u001b[0mcon\u001b[0m\u001b[1;33m(\u001b[0m\u001b[0mtrainFeatures\u001b[0m\u001b[1;33m[\u001b[0m\u001b[0mi\u001b[0m\u001b[1;33m,\u001b[0m\u001b[0mj\u001b[0m\u001b[1;33m]\u001b[0m\u001b[1;33m,\u001b[0m\u001b[0mY\u001b[0m\u001b[1;33m[\u001b[0m\u001b[0mi\u001b[0m\u001b[1;33m]\u001b[0m\u001b[1;33m)\u001b[0m\u001b[1;33m\u001b[0m\u001b[0m\n\u001b[0m\u001b[0;32m     34\u001b[0m         \u001b[0mcount2\u001b[0m\u001b[1;33m=\u001b[0m\u001b[0mcount2\u001b[0m\u001b[1;33m+\u001b[0m\u001b[0mcon\u001b[0m\u001b[1;33m(\u001b[0m\u001b[0mtrainFeatures\u001b[0m\u001b[1;33m[\u001b[0m\u001b[0mi\u001b[0m\u001b[1;33m,\u001b[0m\u001b[0mj\u001b[0m\u001b[1;33m]\u001b[0m\u001b[1;33m,\u001b[0m\u001b[0mY\u001b[0m\u001b[1;33m[\u001b[0m\u001b[0mi\u001b[0m\u001b[1;33m]\u001b[0m\u001b[1;33m)\u001b[0m\u001b[1;33m\u001b[0m\u001b[0m\n\u001b[0;32m     35\u001b[0m     \u001b[0mQspam\u001b[0m\u001b[1;33m[\u001b[0m\u001b[0mi\u001b[0m\u001b[1;33m,\u001b[0m\u001b[1;36m0\u001b[0m\u001b[1;33m]\u001b[0m\u001b[1;33m=\u001b[0m\u001b[0mnp\u001b[0m\u001b[1;33m.\u001b[0m\u001b[0mfloat16\u001b[0m\u001b[1;33m(\u001b[0m\u001b[1;33m(\u001b[0m\u001b[0mcount1\u001b[0m\u001b[1;33m+\u001b[0m\u001b[1;36m1\u001b[0m\u001b[1;33m)\u001b[0m\u001b[1;33m)\u001b[0m\u001b[1;33m/\u001b[0m\u001b[0mnp\u001b[0m\u001b[1;33m.\u001b[0m\u001b[0mfloat16\u001b[0m\u001b[1;33m(\u001b[0m\u001b[0mY1\u001b[0m\u001b[1;33m.\u001b[0m\u001b[0msize\u001b[0m\u001b[1;33m+\u001b[0m\u001b[1;36m2\u001b[0m\u001b[1;33m)\u001b[0m\u001b[1;33m\u001b[0m\u001b[0m\n",
      "\u001b[1;32mC:\\Users\\dingd\\Anaconda2\\lib\\site-packages\\scipy\\sparse\\csr.pyc\u001b[0m in \u001b[0;36m__getitem__\u001b[1;34m(self, key)\u001b[0m\n\u001b[0;32m    267\u001b[0m             \u001b[1;31m# [i, j]\u001b[0m\u001b[1;33m\u001b[0m\u001b[1;33m\u001b[0m\u001b[0m\n\u001b[0;32m    268\u001b[0m             \u001b[1;32mif\u001b[0m \u001b[0misintlike\u001b[0m\u001b[1;33m(\u001b[0m\u001b[0mcol\u001b[0m\u001b[1;33m)\u001b[0m\u001b[1;33m:\u001b[0m\u001b[1;33m\u001b[0m\u001b[0m\n\u001b[1;32m--> 269\u001b[1;33m                 \u001b[1;32mreturn\u001b[0m \u001b[0mself\u001b[0m\u001b[1;33m.\u001b[0m\u001b[0m_get_single_element\u001b[0m\u001b[1;33m(\u001b[0m\u001b[0mrow\u001b[0m\u001b[1;33m,\u001b[0m \u001b[0mcol\u001b[0m\u001b[1;33m)\u001b[0m\u001b[1;33m\u001b[0m\u001b[0m\n\u001b[0m\u001b[0;32m    270\u001b[0m             \u001b[1;31m# [i, 1:2]\u001b[0m\u001b[1;33m\u001b[0m\u001b[1;33m\u001b[0m\u001b[0m\n\u001b[0;32m    271\u001b[0m             \u001b[1;32melif\u001b[0m \u001b[0misinstance\u001b[0m\u001b[1;33m(\u001b[0m\u001b[0mcol\u001b[0m\u001b[1;33m,\u001b[0m \u001b[0mslice\u001b[0m\u001b[1;33m)\u001b[0m\u001b[1;33m:\u001b[0m\u001b[1;33m\u001b[0m\u001b[0m\n",
      "\u001b[1;32mC:\\Users\\dingd\\Anaconda2\\lib\\site-packages\\scipy\\sparse\\compressed.pyc\u001b[0m in \u001b[0;36m_get_single_element\u001b[1;34m(self, row, col)\u001b[0m\n\u001b[0;32m    834\u001b[0m         \u001b[0mend\u001b[0m \u001b[1;33m=\u001b[0m \u001b[0mself\u001b[0m\u001b[1;33m.\u001b[0m\u001b[0mindptr\u001b[0m\u001b[1;33m[\u001b[0m\u001b[0mmajor_index\u001b[0m\u001b[1;33m+\u001b[0m\u001b[1;36m1\u001b[0m\u001b[1;33m]\u001b[0m\u001b[1;33m\u001b[0m\u001b[0m\n\u001b[0;32m    835\u001b[0m         \u001b[1;31m# can use np.add(..., where) from numpy 1.7\u001b[0m\u001b[1;33m\u001b[0m\u001b[1;33m\u001b[0m\u001b[0m\n\u001b[1;32m--> 836\u001b[1;33m         return np.compress(minor_index == self.indices[start:end],\n\u001b[0m\u001b[0;32m    837\u001b[0m                            self.data[start:end]).sum(dtype=self.dtype)\n\u001b[0;32m    838\u001b[0m \u001b[1;33m\u001b[0m\u001b[0m\n",
      "\u001b[1;31mKeyboardInterrupt\u001b[0m: "
     ]
    }
   ],
   "source": [
    "with open('trainFeatures.pkl', 'rb') as f:\n",
    "    trainFeatures = cPickle.load(f)\n",
    "with open('testFeatures.pkl', 'rb') as f:\n",
    "    testFeatures = cPickle.load(f)\n",
    "import numpy as np\n",
    "print testFeatures.shape\n",
    "print trainFeatures.shape\n",
    "Y1=np.zeros(1850)\n",
    "Y2=np.ones(720)\n",
    "Y=np.concatenate((Y1,Y2))\n",
    "print Y.shape\n",
    "#In train data\n",
    "#pie\n",
    "pspam=(np.float16(Y1.size+1))/(np.float16(Y.size+2))\n",
    "pham=1-pspam\n",
    "#sita\n",
    "Qspam=np.zeros((2570,1))#conditional on spam\n",
    "Qham=np.zeros((2570,1))#conditional on ham\n",
    "def con(a,b):\n",
    "    if a==1 and b==1: \n",
    "        c=1\n",
    "    elif a==2 and b==1:\n",
    "        c=0\n",
    "    elif b==0 and a==1:\n",
    "        c=1\n",
    "    else:\n",
    "        c=0\n",
    "    return c\n",
    "for i in range(0,2570):\n",
    "    count1=0\n",
    "    count2=0\n",
    "    for j in range(0,47922):\n",
    "        count1=count1+con(trainFeatures[i,j],Y[i])\n",
    "        count2=count2+con(trainFeatures[i,j],Y[i])\n",
    "    Qspam[i,0]=np.float16((count1+1))/np.float16(Y1.size+2)\n",
    "    Qham[i,0]=np.float16((count2+1))/np.float16(Y2.size+2)\n",
    "print Qspam\n",
    "print Qham    "
   ]
  },
  {
   "cell_type": "code",
   "execution_count": 18,
   "metadata": {
    "collapsed": false
   },
   "outputs": [
    {
     "name": "stdout",
     "output_type": "stream",
     "text": [
      "(2602L, 47922L)\n",
      "(2570L, 47922L)\n",
      "(2570L, 1L)\n"
     ]
    },
    {
     "name": "stderr",
     "output_type": "stream",
     "text": [
      "C:\\Users\\dingd\\Anaconda2\\lib\\site-packages\\ipykernel\\__main__.py:27: DeprecationWarning: using a non-integer number instead of an integer will result in an error in the future\n",
      "C:\\Users\\dingd\\Anaconda2\\lib\\site-packages\\ipykernel\\__main__.py:28: DeprecationWarning: using a non-integer number instead of an integer will result in an error in the future\n"
     ]
    },
    {
     "ename": "KeyboardInterrupt",
     "evalue": "",
     "output_type": "error",
     "traceback": [
      "\u001b[1;31m---------------------------------------------------------------------------\u001b[0m",
      "\u001b[1;31mKeyboardInterrupt\u001b[0m                         Traceback (most recent call last)",
      "\u001b[1;32m<ipython-input-18-6f6ead023029>\u001b[0m in \u001b[0;36m<module>\u001b[1;34m()\u001b[0m\n\u001b[0;32m     45\u001b[0m     \u001b[1;32mfor\u001b[0m \u001b[0mk\u001b[0m \u001b[1;32min\u001b[0m \u001b[0mrange\u001b[0m\u001b[1;33m(\u001b[0m\u001b[1;36m0\u001b[0m\u001b[1;33m,\u001b[0m\u001b[0mdata\u001b[0m\u001b[1;33m[\u001b[0m\u001b[1;36m0\u001b[0m\u001b[1;33m,\u001b[0m\u001b[1;33m:\u001b[0m\u001b[1;33m]\u001b[0m\u001b[1;33m.\u001b[0m\u001b[0msize\u001b[0m\u001b[1;33m)\u001b[0m\u001b[1;33m:\u001b[0m\u001b[1;33m\u001b[0m\u001b[0m\n\u001b[0;32m     46\u001b[0m         \u001b[0mQspam\u001b[0m\u001b[1;33m=\u001b[0m\u001b[0mnp\u001b[0m\u001b[1;33m.\u001b[0m\u001b[0mfloat16\u001b[0m\u001b[1;33m(\u001b[0m\u001b[1;36m2\u001b[0m\u001b[1;33m*\u001b[0m\u001b[0mdata11\u001b[0m\u001b[1;33m[\u001b[0m\u001b[1;33m:\u001b[0m\u001b[1;33m,\u001b[0m\u001b[1;36m0\u001b[0m\u001b[1;33m]\u001b[0m\u001b[1;33m.\u001b[0m\u001b[0msize\u001b[0m\u001b[1;33m-\u001b[0m\u001b[0msum\u001b[0m\u001b[1;33m(\u001b[0m\u001b[0mdata11\u001b[0m\u001b[1;33m[\u001b[0m\u001b[1;33m:\u001b[0m\u001b[1;33m,\u001b[0m\u001b[0mk\u001b[0m\u001b[1;33m]\u001b[0m\u001b[1;33m)\u001b[0m\u001b[1;33m+\u001b[0m\u001b[1;36m1\u001b[0m\u001b[1;33m)\u001b[0m\u001b[1;33m/\u001b[0m\u001b[0mnp\u001b[0m\u001b[1;33m.\u001b[0m\u001b[0mfloat16\u001b[0m\u001b[1;33m(\u001b[0m\u001b[0mdata11\u001b[0m\u001b[1;33m[\u001b[0m\u001b[1;33m:\u001b[0m\u001b[1;33m,\u001b[0m\u001b[1;36m0\u001b[0m\u001b[1;33m]\u001b[0m\u001b[1;33m.\u001b[0m\u001b[0msize\u001b[0m\u001b[1;33m+\u001b[0m\u001b[1;36m2\u001b[0m\u001b[1;33m)\u001b[0m\u001b[1;33m\u001b[0m\u001b[0m\n\u001b[1;32m---> 47\u001b[1;33m         \u001b[0mQham\u001b[0m\u001b[1;33m=\u001b[0m\u001b[0mnp\u001b[0m\u001b[1;33m.\u001b[0m\u001b[0mfloat16\u001b[0m\u001b[1;33m(\u001b[0m\u001b[1;36m2\u001b[0m\u001b[1;33m*\u001b[0m\u001b[0mdata12\u001b[0m\u001b[1;33m[\u001b[0m\u001b[1;33m:\u001b[0m\u001b[1;33m,\u001b[0m\u001b[1;36m0\u001b[0m\u001b[1;33m]\u001b[0m\u001b[1;33m.\u001b[0m\u001b[0msize\u001b[0m\u001b[1;33m-\u001b[0m\u001b[0msum\u001b[0m\u001b[1;33m(\u001b[0m\u001b[0mdata12\u001b[0m\u001b[1;33m[\u001b[0m\u001b[1;33m:\u001b[0m\u001b[1;33m,\u001b[0m\u001b[0mk\u001b[0m\u001b[1;33m]\u001b[0m\u001b[1;33m)\u001b[0m\u001b[1;33m+\u001b[0m\u001b[1;36m1\u001b[0m\u001b[1;33m)\u001b[0m\u001b[1;33m/\u001b[0m\u001b[0mnp\u001b[0m\u001b[1;33m.\u001b[0m\u001b[0mfloat16\u001b[0m\u001b[1;33m(\u001b[0m\u001b[0mdata12\u001b[0m\u001b[1;33m[\u001b[0m\u001b[1;33m:\u001b[0m\u001b[1;33m,\u001b[0m\u001b[1;36m0\u001b[0m\u001b[1;33m]\u001b[0m\u001b[1;33m.\u001b[0m\u001b[0msize\u001b[0m\u001b[1;33m+\u001b[0m\u001b[1;36m2\u001b[0m\u001b[1;33m)\u001b[0m\u001b[1;33m\u001b[0m\u001b[0m\n\u001b[0m\u001b[0;32m     48\u001b[0m         \u001b[1;32mif\u001b[0m \u001b[0mdata2\u001b[0m\u001b[1;33m[\u001b[0m\u001b[0mi\u001b[0m\u001b[1;33m,\u001b[0m\u001b[0mk\u001b[0m\u001b[1;33m]\u001b[0m\u001b[1;33m==\u001b[0m\u001b[1;36m1\u001b[0m\u001b[1;33m:\u001b[0m\u001b[1;33m\u001b[0m\u001b[0m\n\u001b[0;32m     49\u001b[0m             \u001b[0mppspam\u001b[0m\u001b[1;33m=\u001b[0m\u001b[0mppspam\u001b[0m\u001b[1;33m*\u001b[0m\u001b[0mQspam\u001b[0m\u001b[1;33m\u001b[0m\u001b[0m\n",
      "\u001b[1;31mKeyboardInterrupt\u001b[0m: "
     ]
    }
   ],
   "source": [
    "import cPickle\n",
    "import os\n",
    "with open('trainFeatures.pkl', 'rb') as f:\n",
    "    trainFeatures = cPickle.load(f)\n",
    "with open('testFeatures.pkl', 'rb') as f:\n",
    "    testFeatures = cPickle.load(f)\n",
    "import numpy as np\n",
    "\n",
    "data2=testFeatures.toarray()\n",
    "data=trainFeatures.toarray()\n",
    "datat=open('spam_filter_train.txt','r')\n",
    "Y=np.zeros((data[:,0].size,1))\n",
    "i=0\n",
    "for line in datat:\n",
    "    if line[0:4]=='spam':\n",
    "        Y[i]=1\n",
    "    else:\n",
    "        Y[i]=0\n",
    "    i=i+1\n",
    "print data2.shape\n",
    "print data.shape\n",
    "print Y.shape\n",
    "#step1 pie\n",
    "pspam=(np.float16(sum(Y)+1))/np.float16((Y.size+2))\n",
    "pham=1-pspam\n",
    "#step2 sita\n",
    "data11=np.zeros((sum(Y),data[0,:].size))#spam matrix\n",
    "data12=np.zeros((Y.size-sum(Y),data[0,:].size))#ham matrix\n",
    "a=0\n",
    "b=0\n",
    "for j in range(0,data[:,0].size):\n",
    "    if Y[j]==1:\n",
    "        data11[a,:]=data[j,:]\n",
    "        a=a+1\n",
    "    else:\n",
    "        data12[b,:]=data[j,:]\n",
    "        b=b+1\n",
    "\n",
    "Qspam=np.zeros((47922,1))#conditional on spam\n",
    "Qham=np.zeros((47922,1))#conditional on ham   \n",
    "Z=np.zeros((data2[:,0].size,1))\n",
    "for i in range(0,data2[:,0].size):\n",
    "    ppspam=1\n",
    "    ppham=1\n",
    "    for k in range(0,data[0,:].size):\n",
    "        Qspam=np.float16(2*data11[:,0].size-sum(data11[:,k])+1)/np.float16(data11[:,0].size+2)\n",
    "        Qham=np.float16(2*data12[:,0].size-sum(data12[:,k])+1)/np.float16(data12[:,0].size+2)\n",
    "        if data2[i,k]==1:\n",
    "            ppspam=ppspam*Qspam\n",
    "            ppham=ppham*Qham\n",
    "        else:\n",
    "            ppspam=ppspam*(1-Qspam)\n",
    "            ppham=ppham*(1-Qham)\n",
    "    ppspam=ppspam*pspam\n",
    "    ppham=ppham*pham\n",
    "    if ppspam>ppham:\n",
    "        Z[i,0]=1\n",
    "    else:\n",
    "        Z[i,0]=0\n",
    "Z"
   ]
  },
  {
   "cell_type": "code",
   "execution_count": 15,
   "metadata": {
    "collapsed": false
   },
   "outputs": [
    {
     "data": {
      "text/plain": [
       "array([[ 4039.],\n",
       "       [ 3956.],\n",
       "       [ 5129.],\n",
       "       ..., \n",
       "       [ 5140.],\n",
       "       [ 5139.],\n",
       "       [ 5140.]])"
      ]
     },
     "execution_count": 15,
     "metadata": {},
     "output_type": "execute_result"
    }
   ],
   "source": [
    "Qspam"
   ]
  },
  {
   "cell_type": "code",
   "execution_count": null,
   "metadata": {
    "collapsed": true
   },
   "outputs": [],
   "source": []
  }
 ],
 "metadata": {
  "kernelspec": {
   "display_name": "Python 2",
   "language": "python",
   "name": "python2"
  },
  "language_info": {
   "codemirror_mode": {
    "name": "ipython",
    "version": 2
   },
   "file_extension": ".py",
   "mimetype": "text/x-python",
   "name": "python",
   "nbconvert_exporter": "python",
   "pygments_lexer": "ipython2",
   "version": "2.7.11"
  }
 },
 "nbformat": 4,
 "nbformat_minor": 0
}
