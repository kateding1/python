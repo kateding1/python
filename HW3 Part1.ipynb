{
 "cells": [
  {
   "cell_type": "code",
   "execution_count": 94,
   "metadata": {
    "collapsed": false
   },
   "outputs": [
    {
     "data": {
      "text/plain": [
       "[<matplotlib.lines.Line2D at 0xcdb2dd8>]"
      ]
     },
     "execution_count": 94,
     "metadata": {},
     "output_type": "execute_result"
    },
    {
     "data": {
      "image/png": "[encoded data removed]",
      "text/plain": [
       "<matplotlib.figure.Figure at 0xf2ed080>"
      ]
     },
     "metadata": {},
     "output_type": "display_data"
    }
   ],
   "source": [
    "import numpy as np\n",
    "%matplotlib inline\n",
    "from matplotlib import pyplot as plt\n",
    "#import data\n",
    "traindata=np.loadtxt(\"digits_training_data.csv\",delimiter=\",\")\n",
    "trainlabel=np.loadtxt(\"digits_training_labels.csv\",delimiter=\",\")\n",
    "testdata=np.loadtxt(\"digits_training_data.csv\",delimiter=\",\")\n",
    "testlabel=np.loadtxt(\"digits_training_labels.csv\",delimiter=\",\")\n",
    "c=3\n",
    "ita=0.001\n",
    "#Canonical Form\n",
    "for i in range(trainlabel.size):\n",
    "    if trainlabel[i]==4:\n",
    "        trainlabel[i]=1\n",
    "    else:\n",
    "        trainlabel[i]=-1\n",
    "w=np.zeros(traindata[1,:].size)\n",
    "b=0\n",
    "N=np.arange(100)\n",
    "accurate=np.zeros(100) \n",
    "m=1\n",
    "k=np.arange(trainlabel.size)\n",
    "for j in range(1,101):\n",
    "    wgrab=w\n",
    "    for k in range(trainlabel.size):\n",
    "        wgrab=wgrab-c*((trainlabel[k]*traindata[k,:]) if trainlabel[k]*(np.dot(traindata[k,:],w.T)+b)<1 else 0)\n",
    "        bgrab=-c*(trainlabel[k] if trainlabel[k]*(np.dot(traindata[k,:],w.T)+b)<1 else 0)\n",
    "    alpha=np.float(ita)/(1+j*(np.float(ita)))\n",
    "    w=(w-alpha*wgrab)/m\n",
    "    b=(b-alpha*bgrab)/m\n",
    "    m=np.amin(np.dot(traindata,w.T))\n",
    "    a=0\n",
    "    for k in range(trainlabel.size):\n",
    "        if trainlabel[k]*(np.dot(traindata[k,:],w.T)+b)>=1:\n",
    "            a=a+1\n",
    "        else:\n",
    "            a=a\n",
    "    accurate[j-1]=np.float(a)/np.float(trainlabel.size)\n",
    "plt.plot(N,accurate)\n"
   ]
  },
  {
   "cell_type": "code",
   "execution_count": 70,
   "metadata": {
    "collapsed": false
   },
   "outputs": [
    {
     "data": {
      "text/plain": [
       "-23214.0"
      ]
     },
     "execution_count": 70,
     "metadata": {},
     "output_type": "execute_result"
    }
   ],
   "source": [
    "np.sum((trainlabel[1]*traindata[1,:]) if trainlabel[1]*(np.dot(traindata[1,:],w.T)+b)<1 else 0)\n"
   ]
  },
  {
   "cell_type": "code",
   "execution_count": 37,
   "metadata": {
    "collapsed": false
   },
   "outputs": [
    {
     "data": {
      "text/plain": [
       "(676L,)"
      ]
     },
     "execution_count": 37,
     "metadata": {},
     "output_type": "execute_result"
    }
   ],
   "source": [
    "b=0\n",
    "c=3\n",
    "w=np.zeros(traindata[1,:].size) \n",
    "wgrab=w\n",
    "for k in range(trainlabel.size):\n",
    "    wgrab=wgrab-c*np.sum((trainlabel[k]*traindata[k,:]) if trainlabel[k]*(np.dot(traindata[k,:],w.T)+b)<1 else 0)\n",
    "wgrab.shape"
   ]
  },
  {
   "cell_type": "code",
   "execution_count": null,
   "metadata": {
    "collapsed": false
   },
   "outputs": [],
   "source": []
  },
  {
   "cell_type": "code",
   "execution_count": 91,
   "metadata": {
    "collapsed": false
   },
   "outputs": [],
   "source": [
    "w=np.zeros(traindata[1,:].size)\n",
    "b=0\n",
    "m=1\n",
    "wgrab=w\n",
    "for k in range(trainlabel.size):\n",
    "    wgrab=wgrab-c*((trainlabel[k]*traindata[k,:]) if trainlabel[k]*(np.dot(traindata[k,:],w.T)+b)<1 else 0)\n",
    "    bgrab=-c*(trainlabel[k] if trainlabel[k]*(np.dot(traindata[k,:],w.T)+b)<1 else 0)\n",
    "alpha=np.float(ita)/(1+j*(np.float(ita)))\n",
    "w=(w-alpha*wgrab)/m\n",
    "b=(b-alpha*bgrab)/m"
   ]
  },
  {
   "cell_type": "code",
   "execution_count": 88,
   "metadata": {
    "collapsed": false
   },
   "outputs": [],
   "source": [
    "import numpy as np\n",
    "%matplotlib inline\n",
    "from matplotlib import pyplot as plt\n",
    "#import data\n",
    "traindata=np.loadtxt(\"digits_training_data.csv\",delimiter=\",\")\n",
    "trainlabel=np.loadtxt(\"digits_training_labels.csv\",delimiter=\",\")\n",
    "testdata=np.loadtxt(\"digits_training_data.csv\",delimiter=\",\")\n",
    "testlabel=np.loadtxt(\"digits_training_labels.csv\",delimiter=\",\")\n",
    "c=3\n",
    "ita=0.001\n",
    "#Canonical Form\n",
    "for i in range(trainlabel.size):\n",
    "    if trainlabel[i]==4:\n",
    "        trainlabel[i]=1\n",
    "    else:\n",
    "        trainlabel[i]=-1"
   ]
  },
  {
   "cell_type": "code",
   "execution_count": 93,
   "metadata": {
    "collapsed": false
   },
   "outputs": [
    {
     "data": {
      "text/plain": [
       "0.818"
      ]
     },
     "execution_count": 93,
     "metadata": {},
     "output_type": "execute_result"
    }
   ],
   "source": [
    "w=np.zeros(traindata[1,:].size)\n",
    "b=0\n",
    "m=1\n",
    "wgrab=w\n",
    "for k in range(trainlabel.size):\n",
    "    wgrab=wgrab-c*((trainlabel[k]*traindata[k,:]) if trainlabel[k]*(np.dot(traindata[k,:],w.T)+b)<1 else 0)\n",
    "    bgrab=-c*(trainlabel[k] if trainlabel[k]*(np.dot(traindata[k,:],w.T)+b)<1 else 0)\n",
    "alpha=np.float(ita)/(1+j*(np.float(ita)))\n",
    "w=(w-alpha*wgrab)/m\n",
    "b=(b-alpha*bgrab)/m\n",
    "a=0\n",
    "for k in range(trainlabel.size):\n",
    "    if trainlabel[k]*(np.dot(traindata[k,:],w.T)+b)>=1:\n",
    "        a=a+1\n",
    "    else:\n",
    "        a=a\n",
    "    accurate=np.float(a)/np.float(trainlabel.size)\n",
    "accurate"
   ]
  },
  {
   "cell_type": "code",
   "execution_count": null,
   "metadata": {
    "collapsed": true
   },
   "outputs": [],
   "source": []
  }
 ],
 "metadata": {
  "kernelspec": {
   "display_name": "Python 2",
   "language": "python",
   "name": "python2"
  },
  "language_info": {
   "codemirror_mode": {
    "name": "ipython",
    "version": 2
   },
   "file_extension": ".py",
   "mimetype": "text/x-python",
   "name": "python",
   "nbconvert_exporter": "python",
   "pygments_lexer": "ipython2",
   "version": "2.7.11"
  }
 },
 "nbformat": 4,
 "nbformat_minor": 0
}
