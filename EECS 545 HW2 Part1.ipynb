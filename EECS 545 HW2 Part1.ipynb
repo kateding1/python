{
 "cells": [
  {
   "cell_type": "code",
   "execution_count": 13,
   "metadata": {
    "collapsed": false
   },
   "outputs": [
    {
     "name": "stdout",
     "output_type": "stream",
     "text": [
      "[ 14.30064641  14.22494761  14.15225512  14.13712296  14.09143791\n",
      "  14.08006671]\n"
     ]
    },
    {
     "data": {
      "image/png": "[encoded data removed]",
      "text/plain": [
       "<matplotlib.figure.Figure at 0xa664b70>"
      ]
     },
     "metadata": {},
     "output_type": "display_data"
    }
   ],
   "source": [
    "import numpy as np\n",
    "from matplotlib import pyplot as plt\n",
    "#1\n",
    "#(a)(i)\n",
    "#input the data\n",
    "data=np.loadtxt(\"train_graphs_f16_autopilot_cruise.csv\",delimiter=\",\", skiprows=1,usecols=(1,2,3,4,5,6,7))\n",
    "data2=np.loadtxt(\"test_graphs_f16_autopilot_cruise.csv\",delimiter=\",\", skiprows=1,usecols=(1,2,3,4,5,6,7))\n",
    "X=data[:,:-1] #X is a feature set\n",
    "Y=data[:,-1] #Y is an array with target value\n",
    "X2=data2[:,:-1]#X2 is a feature set of test value\n",
    "Y2=data2[:,-1] #Y2 is an array with test target value\n",
    "Intercept=np.ones((Y.size,1))\n",
    "X1=np.concatenate((X,Intercept),axis=1)\n",
    "Intercept2=np.ones((Y2.size,1))\n",
    "X22=np.concatenate((X2,Intercept2),axis=1)\n",
    "M=np.array([1,2,3,4,5,6])\n",
    "#get the RMSE of training data\n",
    "#get the RMSE of test data\n",
    "RMSE=np.zeros(6)\n",
    "RMSEE=np.zeros(6)\n",
    "A1=X1\n",
    "B1=np.dot(np.linalg.pinv(A1),Y)\n",
    "w=B1\n",
    "A2=X22\n",
    "s1=np.power(np.dot(A1,w)-Y,2)\n",
    "s2=np.power(np.dot(A2,w)-Y2,2)\n",
    "RMSE[0]=np.sqrt(np.sum(s1)/Y.size)\n",
    "RMSEE[0]=np.sqrt(np.sum(s2)/Y2.size)\n",
    "for i in range(0,5):\n",
    "    A1=(np.concatenate((A1.T,np.power(X,i+2).T))).T\n",
    "    A2=(np.concatenate((A2.T,np.power(X2,i+2).T))).T\n",
    "    B1=np.dot(np.linalg.pinv(A1),Y)\n",
    "    w=B1\n",
    "    s1=np.power(np.dot(A1,w)-Y,2)\n",
    "    s2=np.power(np.dot(A2,w)-Y2,2)\n",
    "    RMSE[i+1]=np.sqrt(np.sum(s1)/Y.size)\n",
    "    RMSEE[i+1]=np.sqrt(np.sum(s2)/Y2.size)\n",
    "print RMSE\n",
    "%matplotlib inline\n",
    "#plot it\n",
    "plt.plot(M,RMSE,label='RMSE of training data') \n",
    "plt.plot(M,RMSEE,label='RMSE of test data') \n",
    "plt.legend()\n",
    "plt.savefig('plot1')\n",
    "plt.show()"
   ]
  },
  {
   "cell_type": "code",
   "execution_count": 15,
   "metadata": {
    "collapsed": false
   },
   "outputs": [
    {
     "data": {
      "image/png": "[encoded data removed]",
      "text/plain": [
       "<matplotlib.figure.Figure at 0xba3e128>"
      ]
     },
     "metadata": {},
     "output_type": "display_data"
    }
   ],
   "source": [
    "#(a)(ii)\n",
    "lnlambda=np.arange(-40,21)\n",
    "#get the RMSE of training data\n",
    "#get the RMSE of test data\n",
    "#A1=X1\n",
    "#A2=X22\n",
    "RMSE=np.zeros(lnlambda.size)\n",
    "RMSE2=np.zeros(lnlambda.size)\n",
    "D=np.identity(37)\n",
    "#for i in range(0,5):\n",
    "#    A1=(np.concatenate((A1.T,np.power(X,i+2).T))).T\n",
    "#    A2=(np.concatenate((A2.T,np.power(X2,i+2).T))).T\n",
    "for j in range(0,lnlambda.size):\n",
    "    C=np.dot(A1.T,A1)+np.exp(lnlambda[j])*D\n",
    "    C=np.dot(np.linalg.inv(C),A1.T)\n",
    "    w=np.dot(C,Y)\n",
    "    s1=np.power(np.dot(A1,w)-Y,2)\n",
    "    s2=np.power(np.dot(A2,w)-Y2,2)\n",
    "    RMSE[j]=np.sqrt((np.sum(s1)+(np.exp(lnlambda[j]))*np.power(np.linalg.norm(w),2))/Y.size)\n",
    "    RMSE2[j]=np.sqrt((np.sum(s2)+(np.exp(lnlambda[j]))*np.power(np.linalg.norm(w),2))/Y2.size)\n",
    "#plot it\n",
    "plt.plot(lnlambda,RMSE,label='RMSE of training data') \n",
    "plt.plot(lnlambda,RMSE2,label='RMSE of test data') \n",
    "plt.legend()\n",
    "plt.savefig('plot2')\n",
    "plt.show()"
   ]
  },
  {
   "cell_type": "code",
   "execution_count": null,
   "metadata": {
    "collapsed": false
   },
   "outputs": [],
   "source": [
    "#get tao\n",
    "tao=np.logspace(-2,1,num=10,base=2)\n",
    "#impute data\n",
    "datal=np.loadtxt(\"test_locreg_f16_autopilot_cruise.csv\",delimiter=\",\", skiprows=1,usecols=(1,2,3,4,5,6,7))\n",
    "X1=data[:,:-1]\n",
    "X22=datal[:,:-1]\n",
    "Y2=datal[:,-1]\n",
    "X1=(X1-np.mean(X1,0))/np.std(X1,0)\n",
    "X22=(X22-np.mean(X22,0))/np.std(X22,0)\n",
    "\n",
    "#get r(x)\n",
    "def r(x,taoi):\n",
    "    a=np.eye(Y.size)\n",
    "    for i in range(0,Y.size):\n",
    "        a[i,i]=np.exp(-(np.linalg.norm(x-X1[i,:]))**2/(2*(np.power(taoi,2))))\n",
    "    return a\n",
    "def w(feature,weight,target):\n",
    "    return np.dot(np.dot(np.linalg.pinv(np.dot(np.sqrt(weight),feature)),np.sqrt(weight)),target)\n",
    "RMSEl=np.zeros(tao.size)\n",
    "for k in range(0,tao.size):\n",
    "    for j in range(0,Y2.size):\n",
    "        RMSEl[k]=RMSEl[k]+np.power((np.dot(w(X1,r(X22[j,:],tao[k]),Y).T,X22[j,:])-Y2[j]),2)\n",
    "    RMSEl[k]=np.sqrt(RMSEl[k]/Y2.size)\n",
    "print RMSEl\n",
    "%matplotlib inline\n",
    "#plot it\n",
    "plt.plot(tao,RMSEl,\"-g\",label=\"RMSE of local reg\")\n",
    "plt.legend()\n",
    "plt.savefig('plot4')\n",
    "plt.show()"
   ]
  },
  {
   "cell_type": "code",
   "execution_count": 5,
   "metadata": {
    "collapsed": false
   },
   "outputs": [
    {
     "name": "stdout",
     "output_type": "stream",
     "text": [
      "(412L,)\n"
     ]
    }
   ],
   "source": [
    "#2)\n",
    "#input the data\n",
    "data=np.loadtxt(\"steel_composition_train.csv\",delimiter=\",\", skiprows=1,usecols=(1,2,3,4,5,8,9))\n",
    "data2=np.loadtxt(\"steel_composition_test.csv\",delimiter=\",\", skiprows=1,usecols=(1,2,3,4,5,8))\n",
    "X=data[:,:-1] #X is a feature set\n",
    "Y=data[:,-1] #Y is an array with target value\n",
    "X2=data2#X2 is a feature set of test value\n",
    "Intercept=np.ones((Y.size,1))\n",
    "X1=np.concatenate((X,Intercept),axis=1)\n",
    "Intercept2=np.ones((X2[:,0].size,1))\n",
    "X22=np.concatenate((X2,Intercept2),axis=1)\n",
    "#M=np.array([1,2,3,4,5,6])\n",
    "#get the RMSE of training data\n",
    "#get the RMSE of test data\n",
    "#RMSE=np.zeros(6)\n",
    "#RMSEE=np.zeros(6)\n",
    "A1=X1\n",
    "B1=np.dot(np.linalg.pinv(A1),Y)\n",
    "w=B1\n",
    "A2=X22\n",
    "s1=np.power(np.dot(A1,w)-Y,2)\n",
    "RMSE=np.sqrt(np.sum(s1)/Y.size)\n",
    "for i in range(0,3):\n",
    "    A1=(np.concatenate((A1.T,np.power(X,i+2).T))).T\n",
    "    A2=(np.concatenate((A2.T,np.power(X2,i+2).T))).T\n",
    "    B1=np.dot(np.linalg.pinv(A1),Y)\n",
    "    w=B1\n",
    "Y2=np.dot(A2,w)\n",
    "Y2=np.array(Y2)\n",
    "print Y2.shape\n",
    "import csv\n",
    "fl = open('steel_result.csv', 'w')\n",
    "\n",
    "writer = csv.writer(fl,lineterminator='\\n')\n",
    "#writer.writerow(['id', 'Strength']) #if needed\n",
    "for values in Y2:\n",
    "    writer.writerow([values])\n",
    "\n",
    "fl.close()  "
   ]
  },
  {
   "cell_type": "code",
   "execution_count": 5,
   "metadata": {
    "collapsed": false
   },
   "outputs": [
    {
     "name": "stdout",
     "output_type": "stream",
     "text": [
      "0.594970703125\n",
      "0.250288350634\n"
     ]
    }
   ],
   "source": [
    "data=np.loadtxt(\"spambase.train\",delimiter=\",\")\n",
    "data2=np.loadtxt(\"spambase.test\",delimiter=\",\")\n",
    "X=np.concatenate((data,data2))\n",
    "X.shape\n",
    "for i in range(0,X[0,:].size-1):\n",
    "    m=np.median(X[:,i])\n",
    "    for j in range(0,data[:,0].size):\n",
    "        if data[j,i]<m:\n",
    "            data[j,i]=1\n",
    "        else:\n",
    "            data[j,i]=2\n",
    "    for j in range(0,data2[:,0].size):\n",
    "        if data2[j,i]<m:\n",
    "            data2[j,i]=1\n",
    "        else:\n",
    "            data2[j,i]=2\n",
    "#step1 pie\n",
    "pspam=(np.float16(np.count_nonzero(data[:,-1])+1))/np.float16((data[:,-1].size+2))\n",
    "pham=1-pspam\n",
    "print pham\n",
    "#step2 sita\n",
    "Qspam=np.zeros((data[0,:].size-1,1))#conditional on spam\n",
    "for i in range(0,data[0,:].size-1):\n",
    "    count=0\n",
    "    for j in range(0,data[:,0].size):\n",
    "        if data[j,-1]==1 and data[j,i]==1:\n",
    "            count=count+1\n",
    "        else:\n",
    "            count=count\n",
    "    Qspam[i,0]=np.float16((count+1))/np.float16((np.count_nonzero(data[:,-1])+2))\n",
    "Qham=np.zeros((data[0,:].size-1,1))#conditional on ham\n",
    "for i in range(0,data[0,:].size-1):\n",
    "    count=0\n",
    "    for j in range(0,data[:,0].size):\n",
    "        if data[j,-1]==0 and data[j,i]==1:\n",
    "            count=count+1\n",
    "        else:\n",
    "            count=count\n",
    "    Qham[i,0]=np.float16((count+1))/np.float16((data[:,-1].size-np.count_nonzero(data[:,-1])+2))\n",
    "#step3 use test value\n",
    "Y=np.zeros((data2[:,0].size,1))\n",
    "for i in range(0,data2[:,0].size):\n",
    "    ppspam=1\n",
    "    ppham=1\n",
    "    for j in range(0,data2[0,:].size-1):\n",
    "        if data2[i,j]==1:\n",
    "            ppspam=ppspam*Qspam[j,0]\n",
    "            ppham=ppham*Qham[j,0]\n",
    "        else:\n",
    "            ppspam=ppspam*(1-Qspam[j,0])\n",
    "            ppham=ppham*(1-Qham[j,0])\n",
    "    ppspam=ppspam*pspam\n",
    "    ppham=ppham*pham\n",
    "    if ppspam>ppham:\n",
    "        Y[i,0]=1\n",
    "    else:\n",
    "        Y[i,0]=0\n",
    "#step4 get test error\n",
    "con=0\n",
    "for i in range(0,data2[:,0].size):\n",
    "    if Y[i]==data2[i,-1]:\n",
    "        con=con+1\n",
    "    else:\n",
    "        con=con\n",
    "percent=np.float16(con)/np.float(data2[:,0].size)\n",
    "percent=1-percent\n",
    "print percent"
   ]
  },
  {
   "cell_type": "code",
   "execution_count": 7,
   "metadata": {
    "collapsed": false
   },
   "outputs": [
    {
     "name": "stdout",
     "output_type": "stream",
     "text": [
      "0.385620915033\n"
     ]
    }
   ],
   "source": [
    "#Assume all is ham\n",
    "Z=np.zeros((data2[:,0].size,1))\n",
    "con=0\n",
    "for i in range(0,data2[:,0].size):\n",
    "    if Z[i]==data2[i,-1]:\n",
    "        con=con+1\n",
    "    else:\n",
    "        con=con\n",
    "percent=np.float16(con)/np.float(data2[:,0].size)\n",
    "percent=1-percent\n",
    "print percent"
   ]
  },
  {
   "cell_type": "code",
   "execution_count": null,
   "metadata": {
    "collapsed": false
   },
   "outputs": [],
   "source": []
  },
  {
   "cell_type": "code",
   "execution_count": null,
   "metadata": {
    "collapsed": false
   },
   "outputs": [],
   "source": []
  },
  {
   "cell_type": "code",
   "execution_count": null,
   "metadata": {
    "collapsed": true
   },
   "outputs": [],
   "source": []
  }
 ],
 "metadata": {
  "kernelspec": {
   "display_name": "Python 2",
   "language": "python",
   "name": "python2"
  },
  "language_info": {
   "codemirror_mode": {
    "name": "ipython",
    "version": 2
   },
   "file_extension": ".py",
   "mimetype": "text/x-python",
   "name": "python",
   "nbconvert_exporter": "python",
   "pygments_lexer": "ipython2",
   "version": "2.7.11"
  }
 },
 "nbformat": 4,
 "nbformat_minor": 0
}
