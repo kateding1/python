{
 "cells": [
  {
   "cell_type": "code",
   "execution_count": 14,
   "metadata": {
    "collapsed": false
   },
   "outputs": [
    {
     "data": {
      "image/png": "[encoded data removed]",
      "text/plain": [
       "<matplotlib.figure.Figure at 0x1a229048>"
      ]
     },
     "metadata": {},
     "output_type": "display_data"
    }
   ],
   "source": [
    "import numpy as np\n",
    "%matplotlib inline\n",
    "from matplotlib import pyplot as plt\n",
    "#import data\n",
    "traindata=np.loadtxt(\"digits_training_data.csv\",delimiter=\",\")\n",
    "trainlabel=np.loadtxt(\"digits_training_labels.csv\",delimiter=\",\")\n",
    "#)1 (d)\n",
    "c=3\n",
    "ita=0.001\n",
    "#Canonical Form\n",
    "for i in range(trainlabel.size):\n",
    "    if trainlabel[i]==4:\n",
    "        trainlabel[i]=1\n",
    "    else:\n",
    "        trainlabel[i]=-1\n",
    "w1=np.zeros(traindata[1,:].size)\n",
    "b1=0\n",
    "N1=np.arange(100)\n",
    "accurate1=np.zeros(100) \n",
    "m=1\n",
    "for j in range(1,101):\n",
    "    wgrab1=w1\n",
    "    alpha=np.float(ita)/(1+j*(np.float(ita)))\n",
    "    for k in range(trainlabel.size):\n",
    "        wgrab1=wgrab1-c*((trainlabel[k]*traindata[k,:]) if trainlabel[k]*(np.dot(traindata[k,:],w1.T)+b1)<1 else 0)\n",
    "        bgrab1=-c*(trainlabel[k] if trainlabel[k]*(np.dot(traindata[k,:],w1.T)+b1)<1 else 0)\n",
    "    \n",
    "    w1=(w1-alpha*wgrab1)\n",
    "    b1=(b1-alpha*bgrab1)\n",
    "    #m=np.amin(np.abs(np.dot(traindata,w.T)+b))\n",
    "    a=0\n",
    "    for k in range(trainlabel.size):\n",
    "        if trainlabel[k]*(np.dot(traindata[k,:],w1.T)+b1)>=1:\n",
    "            a=a+1\n",
    "        else:\n",
    "            a=a\n",
    "    accurate1[j-1]=np.float(a)/np.float(trainlabel.size)\n",
    "plt.plot(N1,accurate1,label='iteration vs accuracy')\n",
    "plt.savefig('plot1')"
   ]
  },
  {
   "cell_type": "code",
   "execution_count": 12,
   "metadata": {
    "collapsed": false
   },
   "outputs": [
    {
     "data": {
      "image/png": "[encoded data removed]",
      "text/plain": [
       "<matplotlib.figure.Figure at 0x1aa180f0>"
      ]
     },
     "metadata": {},
     "output_type": "display_data"
    }
   ],
   "source": [
    "#(f)\n",
    "w2=np.zeros(traindata[1,:].size)\n",
    "b2=0\n",
    "N=np.arange(100)\n",
    "accurate2=np.zeros(100) \n",
    "m=1\n",
    "for j in range(1,101):\n",
    "    alpha=np.float(ita)/(1+j*(np.float(ita)))\n",
    "    for k in np.random.permutation(trainlabel.size):\n",
    "        wgrab2=w2/(trainlabel.size)\n",
    "        wgrab2=wgrab2-c*((trainlabel[k]*traindata[k,:]) if trainlabel[k]*(np.dot(traindata[k,:],w2.T)+b2)<1 else 0)\n",
    "        bgrab2=-c*(trainlabel[k] if trainlabel[k]*(np.dot(traindata[k,:],w2.T)+b2)<1 else 0)\n",
    "        w2=(w2-alpha*wgrab2)\n",
    "        b2=(b2-alpha*bgrab2)\n",
    "    a=0\n",
    "    for u in range(trainlabel.size):\n",
    "        if trainlabel[u]*(np.dot(traindata[u,:],w2.T)+b2)>=1:\n",
    "            a=a+1\n",
    "        else:\n",
    "            a=a\n",
    "    accurate2[j-1]=np.float(a)/np.float(trainlabel.size)\n",
    "#plt.plot(N,accurate2,\"-g\",N,accurate1,\"-b\")\n",
    "plt.axis([0,100,0.3,1.3])\n",
    "plt.plot(N,accurate2,label='Batch Gradient Descent') \n",
    "plt.plot(N,accurate1,label='Stochastic Gradient Descent') \n",
    "plt.legend()\n",
    "plt.savefig('plot2')"
   ]
  },
  {
   "cell_type": "code",
   "execution_count": 16,
   "metadata": {
    "collapsed": false
   },
   "outputs": [],
   "source": [
    "#(i)\n",
    "import sklearn\n",
    "from sklearn import svm\n",
    "testdata=np.loadtxt(\"digits_test_data.csv\",delimiter=\",\")\n",
    "testlabel=np.loadtxt(\"digits_test_labels.csv\",delimiter=\",\")\n",
    "for i in range(testlabel.size):\n",
    "    if testlabel[i]==4:\n",
    "        testlabel[i]=1\n",
    "    else:\n",
    "        testlabel[i]=-1\n",
    "#gamma=np.logspace(-9.10,13,num=50)\n",
    "#accurate2=np.zeros(50)\n",
    "#for i in range(0,50):\n",
    "#    clf=sklearn.svm.SVC(kernel=\"rbf\",gamma=gamma[i],C=3)\n",
    "#    clf.fit(traindata,trainlabel)\n",
    "#    pre=clf.predict(testdata)\n",
    "#    a=0\n",
    "#    for u in range(testlabel.size):\n",
    "#        if testlabel[u]==pre[u]:\n",
    "#            a=a+1\n",
    "#        else:\n",
    "#           a=a\n",
    "#    accurate2[i]=np.float(a)/np.float(testlabel.size)\n",
    "#np.argmax(accurate2)\n",
    "#gamma[6]\n",
    "clf=svm.SVC(kernel=\"rbf\",gamma=4.0375921650671599e-07,C=3)\n",
    "clf.fit(traindata,trainlabel)\n",
    "pre=clf.predict(testdata)\n",
    "a=0\n",
    "for u in range(testlabel.size):\n",
    "    if testlabel[u]==pre[u]:\n",
    "        a=a+1\n",
    "    else:\n",
    "        a=a\n",
    "accurate=np.float(a)/np.float(testlabel.size)\n",
    "testlabell=np.loadtxt(\"digits_test_labels.csv\",delimiter=\",\")\n",
    "diff=np.abs(testlabel-pre)\n",
    "\n",
    "data = np.genfromtxt(\"digits_test_data.csv\", delimiter=',')\n",
    "N=np.zeros(7)\n",
    "i=0\n",
    "for k in range(0,500):\n",
    "    if diff[k]!=0:\n",
    "        N[i]=k\n",
    "        i=i+1\n",
    "    else:\n",
    "        i=i\n",
    "#plt.imshow(data[N[i]].reshape((26,26)), interpolation=\"nearest\", cmap=cm.Greys_r)"
   ]
  },
  {
   "cell_type": "code",
   "execution_count": 17,
   "metadata": {
    "collapsed": false
   },
   "outputs": [
    {
     "data": {
      "text/plain": [
       "array([ 122.,  163.,  165.,  209.,  329.,  390.,  468.])"
      ]
     },
     "execution_count": 17,
     "metadata": {},
     "output_type": "execute_result"
    }
   ],
   "source": [
    "N"
   ]
  },
  {
   "cell_type": "code",
   "execution_count": 3,
   "metadata": {
    "collapsed": false
   },
   "outputs": [],
   "source": [
    "#(j)\n",
    "import sklearn\n",
    "testdata=np.loadtxt(\"digits_test_data.csv\",delimiter=\",\")\n",
    "testlabel=np.loadtxt(\"digits_test_labels.csv\",delimiter=\",\")\n",
    "for i in range(testlabel.size):\n",
    "    if testlabel[i]==4:\n",
    "        testlabel[i]=1\n",
    "    else:\n",
    "        testlabel[i]=-1\n",
    "#import data\n",
    "traindata=np.loadtxt(\"digits_training_data.csv\",delimiter=\",\")\n",
    "trainlabel=np.loadtxt(\"digits_training_labels.csv\",delimiter=\",\")\n",
    "for i in range(trainlabel.size):\n",
    "    if trainlabel[i]==4:\n",
    "        trainlabel[i]=1\n",
    "    else:\n",
    "        trainlabel[i]=-1\n",
    "#get pi \n",
    "pi1=(trainlabel==1).sum()\n",
    "pi2=1000-pi1\n",
    "pi11=np.float(pi1)/np.float(trainlabel.size)\n",
    "pi22=1-pi11\n",
    "mu1=np.zeros((traindata[1,:].size,1))\n",
    "mu2=np.zeros((traindata[1,:].size,1))\n",
    "sigma1=np.zeros((traindata[:,1].size,traindata[1,:].size))\n",
    "for i in range(traindata[1,:].size):\n",
    "    for j in range(trainlabel.size):\n",
    "        if trainlabel[j]==1:\n",
    "            mu1[i,0]=mu1[i,0]+(traindata[j,i])\n",
    "        else:\n",
    "            mu2[i,0]=mu2[i,0]+(traindata[j,i])\n",
    "    mu1[i,0]=mu1[i,0]/pi1\n",
    "    mu2[i,0]=mu2[i,0]/pi2\n",
    "for j in range(trainlabel.size):\n",
    "    if trainlabel[j]==1:\n",
    "        sigma1[j:j+1,:]=traindata[j:j+1,:]-mu1.T \n",
    "    else:\n",
    "        sigma1[j:j+1,:]=traindata[j:j+1,:]-mu2.T \n",
    "sigma=np.dot(sigma1.T,sigma1)/trainlabel.size\n",
    "#gamma1=((-1/2)*np.dot(np.dot(mu1.T,np.linalg.pinv(sigma)),mu1))+np.log(pi11)\n",
    "#gamma2=((-1/2)*np.dot(np.dot(mu2.T,np.linalg.pinv(sigma)),mu2))+np.log(pi22)\n",
    "gamma1 = -0.5*mu1.T.dot(np.linalg.pinv(sigma)).dot(mu1)+np.log(pi11)\n",
    "gamma2 = -0.5*mu2.T.dot(np.linalg.pinv(sigma)).dot(mu2)+np.log(pi22)\n",
    "beta1=np.linalg.pinv(sigma).dot(mu1)\n",
    "beta2=np.linalg.pinv(sigma).dot(mu2)\n"
   ]
  },
  {
   "cell_type": "code",
   "execution_count": 9,
   "metadata": {
    "collapsed": false
   },
   "outputs": [
    {
     "data": {
      "text/plain": [
       "(array([[-42.98396815]]), array([[-51.37923301]]))"
      ]
     },
     "execution_count": 9,
     "metadata": {},
     "output_type": "execute_result"
    }
   ],
   "source": [
    "gamma1,gamma2"
   ]
  },
  {
   "cell_type": "code",
   "execution_count": 301,
   "metadata": {
    "collapsed": false
   },
   "outputs": [
    {
     "name": "stdout",
     "output_type": "stream",
     "text": [
      "0.997\n",
      "0.894\n"
     ]
    },
    {
     "name": "stderr",
     "output_type": "stream",
     "text": [
      "C:\\Users\\dingd\\Anaconda2\\lib\\site-packages\\ipykernel\\__main__.py:11: RuntimeWarning: overflow encountered in exp\n",
      "C:\\Users\\dingd\\Anaconda2\\lib\\site-packages\\ipykernel\\__main__.py:12: RuntimeWarning: overflow encountered in exp\n",
      "C:\\Users\\dingd\\Anaconda2\\lib\\site-packages\\ipykernel\\__main__.py:32: RuntimeWarning: invalid value encountered in double_scalars\n",
      "C:\\Users\\dingd\\Anaconda2\\lib\\site-packages\\ipykernel\\__main__.py:33: RuntimeWarning: invalid value encountered in double_scalars\n"
     ]
    }
   ],
   "source": [
    "y=np.zeros(trainlabel.size)\n",
    "ytest=np.zeros(testlabel.size)\n",
    "yita1=np.zeros(trainlabel.size)\n",
    "yita2=np.zeros(trainlabel.size)\n",
    "yitat1=np.zeros(testlabel.size)\n",
    "yitat2=np.zeros(testlabel.size)\n",
    "for i in range(trainlabel.size):\n",
    "    yita1[i]=np.exp(np.dot(beta1.T,traindata[i,:])+gamma1)\n",
    "    yita2[i]=np.exp(np.dot(beta2.T,traindata[i,:])+gamma2)\n",
    "for i in range(testlabel.size):\n",
    "    yitat1[i]=np.exp(np.dot(beta1.T,testdata[i,:])+gamma1)\n",
    "    yitat2[i]=np.exp(np.dot(beta2.T,testdata[i,:])+gamma2)\n",
    "a=0\n",
    "b=0\n",
    "for i in range(trainlabel.size):\n",
    "    p1=np.float(yita1[i])/np.float(yita1[i]+yita2[i])\n",
    "    p2=np.float(yita2[i])/np.float(yita1[i]+yita2[i])\n",
    "    if p1>p2:\n",
    "        y[i]=1\n",
    "        if y[i]==trainlabel[i]:\n",
    "            a=a+1\n",
    "        else:\n",
    "            a=a\n",
    "    else:\n",
    "        y[i]=-1\n",
    "        if y[i]==trainlabel[i]:\n",
    "            a=a+1\n",
    "        else:\n",
    "            a=a\n",
    "#test data \n",
    "for i in range(testlabel.size):\n",
    "    p1=yitat1[i]/np.float(yitat1[i]+yitat2[i])\n",
    "    p2=yitat2[i]/np.float(yitat1[i]+yitat2[i])\n",
    "    if p1>p2:\n",
    "        ytest[i]=1\n",
    "        if ytest[i]==testlabel[i]:\n",
    "            b=b+1\n",
    "        else:\n",
    "            b=b\n",
    "    else:\n",
    "        ytest[i]=-1\n",
    "        if ytest[i]==testlabel[i]:\n",
    "            b=b+1\n",
    "        else:\n",
    "            b=b\n",
    "accuratey=np.float(a)/np.float(trainlabel.size)\n",
    "accurateyt=np.float(b)/np.float(testlabel.size)\n",
    "print accuratey\n",
    "print accurateyt\n",
    "  "
   ]
  },
  {
   "cell_type": "code",
   "execution_count": 302,
   "metadata": {
    "collapsed": false
   },
   "outputs": [
    {
     "data": {
      "text/plain": [
       "array([-0.05023303])"
      ]
     },
     "execution_count": 302,
     "metadata": {},
     "output_type": "execute_result"
    }
   ],
   "source": []
  },
  {
   "cell_type": "code",
   "execution_count": 232,
   "metadata": {
    "collapsed": false
   },
   "outputs": [
    {
     "data": {
      "text/plain": [
       "(1L, 1000L)"
      ]
     },
     "execution_count": 232,
     "metadata": {},
     "output_type": "execute_result"
    }
   ],
   "source": []
  },
  {
   "cell_type": "code",
   "execution_count": 234,
   "metadata": {
    "collapsed": false
   },
   "outputs": [
    {
     "data": {
      "text/plain": [
       "0.0"
      ]
     },
     "execution_count": 234,
     "metadata": {},
     "output_type": "execute_result"
    }
   ],
   "source": []
  },
  {
   "cell_type": "code",
   "execution_count": null,
   "metadata": {
    "collapsed": true
   },
   "outputs": [],
   "source": []
  }
 ],
 "metadata": {
  "kernelspec": {
   "display_name": "Python 2",
   "language": "python",
   "name": "python2"
  },
  "language_info": {
   "codemirror_mode": {
    "name": "ipython",
    "version": 2
   },
   "file_extension": ".py",
   "mimetype": "text/x-python",
   "name": "python",
   "nbconvert_exporter": "python",
   "pygments_lexer": "ipython2",
   "version": "2.7.11"
  }
 },
 "nbformat": 4,
 "nbformat_minor": 0
}
