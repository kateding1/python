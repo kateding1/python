{
 "cells": [
  {
   "cell_type": "code",
   "execution_count": 20,
   "metadata": {
    "collapsed": false
   },
   "outputs": [
    {
     "name": "stdout",
     "output_type": "stream",
     "text": [
      "0.997\n",
      "0.894\n",
      "[   2.    4.   21.   22.   25.   34.   43.   50.   56.   72.   89.   90.\n",
      "   94.  101.  110.  122.  125.  139.  163.  175.  198.  204.  209.  215.\n",
      "  216.  220.  247.  253.  255.  273.  275.  288.  291.  296.  303.  325.\n",
      "  329.  330.  336.  350.  365.  376.  390.  392.  396.  411.  414.  419.\n",
      "  439.  458.  459.  468.  472.]\n"
     ]
    },
    {
     "name": "stderr",
     "output_type": "stream",
     "text": [
      "C:\\Users\\dingd\\Anaconda2\\lib\\site-packages\\ipykernel\\__main__.py:61: RuntimeWarning: overflow encountered in exp\n",
      "C:\\Users\\dingd\\Anaconda2\\lib\\site-packages\\ipykernel\\__main__.py:62: RuntimeWarning: overflow encountered in exp\n",
      "C:\\Users\\dingd\\Anaconda2\\lib\\site-packages\\ipykernel\\__main__.py:82: RuntimeWarning: invalid value encountered in double_scalars\n",
      "C:\\Users\\dingd\\Anaconda2\\lib\\site-packages\\ipykernel\\__main__.py:83: RuntimeWarning: invalid value encountered in double_scalars\n"
     ]
    }
   ],
   "source": [
    "import numpy as np\n",
    "%matplotlib inline\n",
    "from matplotlib import pyplot as plt\n",
    "import matplotlib.cm as cm\n",
    "#(i)\n",
    "#(j)\n",
    "import sklearn\n",
    "testdata=np.loadtxt(\"digits_test_data.csv\",delimiter=\",\")\n",
    "testlabel=np.loadtxt(\"digits_test_labels.csv\",delimiter=\",\")\n",
    "for i in range(testlabel.size):\n",
    "    if testlabel[i]==4:\n",
    "        testlabel[i]=1\n",
    "    else:\n",
    "        testlabel[i]=-1\n",
    "#import data\n",
    "traindata=np.loadtxt(\"digits_training_data.csv\",delimiter=\",\")\n",
    "trainlabel=np.loadtxt(\"digits_training_labels.csv\",delimiter=\",\")\n",
    "for i in range(trainlabel.size):\n",
    "    if trainlabel[i]==4:\n",
    "        trainlabel[i]=1\n",
    "    else:\n",
    "        trainlabel[i]=-1\n",
    "#get pi \n",
    "pi1=(trainlabel==1).sum()\n",
    "pi2=1000-pi1\n",
    "pi11=np.float(pi1)/np.float(trainlabel.size)\n",
    "pi22=1-pi11\n",
    "mu1=np.zeros((traindata[1,:].size,1))\n",
    "mu2=np.zeros((traindata[1,:].size,1))\n",
    "sigma1=np.zeros((traindata[:,1].size,traindata[1,:].size))\n",
    "for i in range(traindata[1,:].size):\n",
    "    for j in range(trainlabel.size):\n",
    "        if trainlabel[j]==1:\n",
    "            mu1[i,0]=mu1[i,0]+(traindata[j,i])\n",
    "        else:\n",
    "            mu2[i,0]=mu2[i,0]+(traindata[j,i])\n",
    "    mu1[i,0]=mu1[i,0]/pi1\n",
    "    mu2[i,0]=mu2[i,0]/pi2\n",
    "for j in range(trainlabel.size):\n",
    "    if trainlabel[j]==1:\n",
    "        sigma1[j:j+1,:]=traindata[j:j+1,:]-mu1.T \n",
    "    else:\n",
    "        sigma1[j:j+1,:]=traindata[j:j+1,:]-mu2.T \n",
    "sigma=np.dot(sigma1.T,sigma1)/trainlabel.size\n",
    "#gamma1=((-1/2)*np.dot(np.dot(mu1.T,np.linalg.pinv(sigma)),mu1))+np.log(pi11)\n",
    "#gamma2=((-1/2)*np.dot(np.dot(mu2.T,np.linalg.pinv(sigma)),mu2))+np.log(pi22)\n",
    "gamma1 = -0.5*mu1.T.dot(np.linalg.pinv(sigma)).dot(mu1)+np.log(pi11)\n",
    "gamma2 = -0.5*mu2.T.dot(np.linalg.pinv(sigma)).dot(mu2)+np.log(pi22)\n",
    "beta1=np.linalg.pinv(sigma).dot(mu1)\n",
    "beta2=np.linalg.pinv(sigma).dot(mu2)\n",
    "y=np.zeros(trainlabel.size)\n",
    "ytest=np.zeros(testlabel.size)\n",
    "yita1=np.zeros(trainlabel.size)\n",
    "yita2=np.zeros(trainlabel.size)\n",
    "yitat1=np.zeros(testlabel.size)\n",
    "yitat2=np.zeros(testlabel.size)\n",
    "for i in range(trainlabel.size):\n",
    "    yita1[i]=np.exp(np.dot(beta1.T,traindata[i,:])+gamma1)\n",
    "    yita2[i]=np.exp(np.dot(beta2.T,traindata[i,:])+gamma2)\n",
    "for i in range(testlabel.size):\n",
    "    yitat1[i]=np.exp(np.dot(beta1.T,testdata[i,:])+gamma1)\n",
    "    yitat2[i]=np.exp(np.dot(beta2.T,testdata[i,:])+gamma2)\n",
    "a=0\n",
    "b=0\n",
    "for i in range(trainlabel.size):\n",
    "    p1=np.float(yita1[i])/np.float(yita1[i]+yita2[i])\n",
    "    p2=np.float(yita2[i])/np.float(yita1[i]+yita2[i])\n",
    "    if p1>p2:\n",
    "        y[i]=1\n",
    "        if y[i]==trainlabel[i]:\n",
    "            a=a+1\n",
    "        else:\n",
    "            a=a\n",
    "    else:\n",
    "        y[i]=-1\n",
    "        if y[i]==trainlabel[i]:\n",
    "            a=a+1\n",
    "        else:\n",
    "            a=a\n",
    "#test data \n",
    "for i in range(testlabel.size):\n",
    "    p1=yitat1[i]/np.float(yitat1[i]+yitat2[i])\n",
    "    p2=yitat2[i]/np.float(yitat1[i]+yitat2[i])\n",
    "    if p1>p2:\n",
    "        ytest[i]=1\n",
    "        if ytest[i]==testlabel[i]:\n",
    "            b=b+1\n",
    "        else:\n",
    "            b=b\n",
    "    else:\n",
    "        ytest[i]=-1\n",
    "        if ytest[i]==testlabel[i]:\n",
    "            b=b+1\n",
    "        else:\n",
    "            b=b\n",
    "accuratey=np.float(a)/np.float(trainlabel.size)\n",
    "accurateyt=np.float(b)/np.float(testlabel.size)\n",
    "print accuratey\n",
    "print accurateyt\n",
    "diff=np.abs(testlabel-ytest)\n",
    "data = np.genfromtxt(\"digits_test_data.csv\", delimiter=',')\n",
    "N=np.zeros(53)\n",
    "i=0\n",
    "for k in range(0,500):\n",
    "    if diff[k]!=0:\n",
    "        N[i]=k\n",
    "        i=i+1\n",
    "    else:\n",
    "        i=i\n",
    "#plt.imshow(data[N[i]].reshape((26,26)), interpolation=\"nearest\", cmap=cm.Greys_r)\n",
    "print N"
   ]
  },
  {
   "cell_type": "code",
   "execution_count": 34,
   "metadata": {
    "collapsed": false
   },
   "outputs": [
    {
     "name": "stderr",
     "output_type": "stream",
     "text": [
      "C:\\Users\\dingd\\Anaconda2\\lib\\site-packages\\ipykernel\\__main__.py:1: DeprecationWarning: using a non-integer number instead of an integer will result in an error in the future\n",
      "  if __name__ == '__main__':\n"
     ]
    },
    {
     "data": {
      "text/plain": [
       "(1.0, -1.0)"
      ]
     },
     "execution_count": 34,
     "metadata": {},
     "output_type": "execute_result"
    },
    {
     "data": {
      "image/png": "[encoded data removed]",
      "text/plain": [
       "<matplotlib.figure.Figure at 0x1f4b5198>"
      ]
     },
     "metadata": {},
     "output_type": "display_data"
    }
   ],
   "source": [
    "plt.imshow(data[N[2]].reshape((26,26)), interpolation=\"nearest\", cmap=cm.Greys_r)\n",
    "plt.savefig('wrong11')\n",
    "ytest[21],testlabel[21]"
   ]
  },
  {
   "cell_type": "code",
   "execution_count": 35,
   "metadata": {
    "collapsed": false
   },
   "outputs": [
    {
     "name": "stderr",
     "output_type": "stream",
     "text": [
      "C:\\Users\\dingd\\Anaconda2\\lib\\site-packages\\ipykernel\\__main__.py:1: DeprecationWarning: using a non-integer number instead of an integer will result in an error in the future\n",
      "  if __name__ == '__main__':\n"
     ]
    },
    {
     "data": {
      "text/plain": [
       "(-1.0, 1.0)"
      ]
     },
     "execution_count": 35,
     "metadata": {},
     "output_type": "execute_result"
    },
    {
     "data": {
      "image/png": "[encoded data removed]",
      "text/plain": [
       "<matplotlib.figure.Figure at 0x1f2bf7f0>"
      ]
     },
     "metadata": {},
     "output_type": "display_data"
    }
   ],
   "source": [
    "plt.imshow(data[N[5]].reshape((26,26)), interpolation=\"nearest\", cmap=cm.Greys_r)\n",
    "plt.savefig('wrong12')\n",
    "ytest[34],testlabel[34]"
   ]
  },
  {
   "cell_type": "markdown",
   "metadata": {},
   "source": []
  },
  {
   "cell_type": "code",
   "execution_count": 36,
   "metadata": {
    "collapsed": false
   },
   "outputs": [
    {
     "name": "stderr",
     "output_type": "stream",
     "text": [
      "C:\\Users\\dingd\\Anaconda2\\lib\\site-packages\\ipykernel\\__main__.py:1: DeprecationWarning: using a non-integer number instead of an integer will result in an error in the future\n",
      "  if __name__ == '__main__':\n"
     ]
    },
    {
     "data": {
      "text/plain": [
       "(-1.0, 1.0)"
      ]
     },
     "execution_count": 36,
     "metadata": {},
     "output_type": "execute_result"
    },
    {
     "data": {
      "image/png": "[encoded data removed]",
      "text/plain": [
       "<matplotlib.figure.Figure at 0xb294c18>"
      ]
     },
     "metadata": {},
     "output_type": "display_data"
    }
   ],
   "source": [
    "plt.imshow(data[N[6]].reshape((26,26)), interpolation=\"nearest\", cmap=cm.Greys_r)\n",
    "plt.savefig('wrong13')\n",
    "ytest[43],testlabel[43]"
   ]
  },
  {
   "cell_type": "code",
   "execution_count": 37,
   "metadata": {
    "collapsed": false
   },
   "outputs": [
    {
     "name": "stderr",
     "output_type": "stream",
     "text": [
      "C:\\Users\\dingd\\Anaconda2\\lib\\site-packages\\ipykernel\\__main__.py:1: DeprecationWarning: using a non-integer number instead of an integer will result in an error in the future\n",
      "  if __name__ == '__main__':\n"
     ]
    },
    {
     "data": {
      "text/plain": [
       "(-1.0, 1.0)"
      ]
     },
     "execution_count": 37,
     "metadata": {},
     "output_type": "execute_result"
    },
    {
     "data": {
      "image/png": "[encoded data removed]",
      "text/plain": [
       "<matplotlib.figure.Figure at 0x1ee325c0>"
      ]
     },
     "metadata": {},
     "output_type": "display_data"
    }
   ],
   "source": [
    "plt.imshow(data[N[7]].reshape((26,26)), interpolation=\"nearest\", cmap=cm.Greys_r)\n",
    "plt.savefig('wrong14')\n",
    "ytest[50],testlabel[50]"
   ]
  },
  {
   "cell_type": "markdown",
   "metadata": {},
   "source": []
  },
  {
   "cell_type": "code",
   "execution_count": 38,
   "metadata": {
    "collapsed": false
   },
   "outputs": [
    {
     "name": "stderr",
     "output_type": "stream",
     "text": [
      "C:\\Users\\dingd\\Anaconda2\\lib\\site-packages\\ipykernel\\__main__.py:1: DeprecationWarning: using a non-integer number instead of an integer will result in an error in the future\n",
      "  if __name__ == '__main__':\n"
     ]
    },
    {
     "data": {
      "text/plain": [
       "(-1.0, 1.0)"
      ]
     },
     "execution_count": 38,
     "metadata": {},
     "output_type": "execute_result"
    },
    {
     "data": {
      "image/png": "[encoded data removed]",
      "text/plain": [
       "<matplotlib.figure.Figure at 0x1ee09048>"
      ]
     },
     "metadata": {},
     "output_type": "display_data"
    }
   ],
   "source": [
    "plt.imshow(data[N[10]].reshape((26,26)), interpolation=\"nearest\", cmap=cm.Greys_r)\n",
    "plt.savefig('wrong15')\n",
    "ytest[89],testlabel[89]"
   ]
  },
  {
   "cell_type": "code",
   "execution_count": null,
   "metadata": {
    "collapsed": true
   },
   "outputs": [],
   "source": []
  }
 ],
 "metadata": {
  "kernelspec": {
   "display_name": "Python 2",
   "language": "python",
   "name": "python2"
  },
  "language_info": {
   "codemirror_mode": {
    "name": "ipython",
    "version": 2
   },
   "file_extension": ".py",
   "mimetype": "text/x-python",
   "name": "python",
   "nbconvert_exporter": "python",
   "pygments_lexer": "ipython2",
   "version": "2.7.11"
  }
 },
 "nbformat": 4,
 "nbformat_minor": 0
}
