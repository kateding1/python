{
 "cells": [
  {
   "cell_type": "code",
   "execution_count": 1,
   "metadata": {
    "collapsed": true
   },
   "outputs": [],
   "source": [
    "from __future__ import division\n",
    "from scipy.ndimage import imread\n",
    "import numpy as np\n",
    "from matplotlib import pyplot as plt\n",
    "# Load the mandrill image as an NxNx3 array. Values range from 0.0 to 255.0.\n",
    "mandrill = imread('mandrill.png', mode='RGB').astype(float)\n",
    "N = int(mandrill.shape[0])\n",
    "\n",
    "M = 2\n",
    "k = 64\n",
    "\n",
    "# Store each MxM block of the image as a row vector of X\n",
    "X = np.zeros((N**2//M**2, 3*M**2))\n",
    "for i in range(N//M):\n",
    "    for j in range(N//M):\n",
    "        X[i*N//M+j,:] = mandrill[i*M:(i+1)*M,j*M:(j+1)*M,:].reshape(3*M**2)\n",
    "plt.imshow(mandrill/255)\n",
    "plt.show()"
   ]
  },
  {
   "cell_type": "code",
   "execution_count": 2,
   "metadata": {
    "collapsed": false
   },
   "outputs": [],
   "source": [
    "import copy\n",
    "import random\n",
    "mu=np.array(random.sample(X,64))\n",
    "J1=0\n",
    "J2=1\n",
    "J=0\n",
    "while np.abs(J1-J2)>0:\n",
    "    J1=copy.copy(J2)\n",
    "    r=np.zeros((X[:,1].size,k))\n",
    "    error=np.zeros(X[:,1].size)\n",
    "    for i in range(X[:,1].size):\n",
    "        a=np.argmin((np.sum((X[i,:]-mu)**2,1)))\n",
    "        r[i,a]=1\n",
    "        error[i]=np.linalg.norm(X[i,:]-mu[a,:])**2\n",
    "    mu=np.dot(r.T,X)/(np.sum(r,0).reshape(64,1))\n",
    "    J2=np.sum(error)\n",
    "    J=np.append(J,J2)\n",
    "J\n",
    "M=np.arange(J.size)\n",
    "#plt.plot(M,J)\n",
    "#plt.show()"
   ]
  },
  {
   "cell_type": "code",
   "execution_count": 3,
   "metadata": {
    "collapsed": false
   },
   "outputs": [
    {
     "name": "stdout",
     "output_type": "stream",
     "text": [
      "[[ 102.09977827   98.16407982   57.01034738 ...,  103.09534368\n",
      "   101.94530673   59.06873614]\n",
      " [  63.27438017   58.83760331   44.68512397 ...,   60.92190083\n",
      "    58.15743802   43.89297521]\n",
      " [ 129.126703    143.75749319  130.00408719 ...,   72.1280654    76.96321526\n",
      "    62.54495913]\n",
      " ..., \n",
      " [ 105.94594595  105.87960688   74.62162162 ...,   41.32678133\n",
      "    37.91154791   35.30958231]\n",
      " [ 105.94594595  105.87960688   74.62162162 ...,   41.32678133\n",
      "    37.91154791   35.30958231]\n",
      " [ 105.94594595  105.87960688   74.62162162 ...,   41.32678133\n",
      "    37.91154791   35.30958231]]\n"
     ]
    }
   ],
   "source": [
    "xnew=np.zeros(X.shape)\n",
    "for i in range(X[:,1].size):\n",
    "    j=r[i]\n",
    "    xnew[i,:]=mu[np.argmax(r[i,:]),:]\n",
    "print xnew"
   ]
  },
  {
   "cell_type": "code",
   "execution_count": 4,
   "metadata": {
    "collapsed": false
   },
   "outputs": [],
   "source": [
    "mandrill1=np.zeros(512*512*3).reshape(512,512,3)\n",
    "for i in range(256):\n",
    "    for j in range(256):\n",
    "        mandrill1[i*2:(i+1)*2,j*2:(j+1)*2,:]=xnew[i*256+j,:].reshape(2,2,3)\n",
    "plt.imshow(mandrill1/255)\n",
    "plt.show()"
   ]
  },
  {
   "cell_type": "code",
   "execution_count": 7,
   "metadata": {
    "collapsed": false
   },
   "outputs": [],
   "source": [
    "plt.imshow(mandrill/255)\n",
    "plt.show()"
   ]
  },
  {
   "cell_type": "code",
   "execution_count": 5,
   "metadata": {
    "collapsed": false
   },
   "outputs": [],
   "source": [
    "d=mandrill-mandrill1\n",
    "plt.imshow((d+128)/255)\n",
    "plt.show()"
   ]
  },
  {
   "cell_type": "code",
   "execution_count": 4,
   "metadata": {
    "collapsed": false
   },
   "outputs": [
    {
     "data": {
      "text/plain": [
       "array([  0,   1,   2,   3,   4,   5,   6,   7,   8,   9,  10,  11,  12,\n",
       "        13,  14,  15,  16,  17,  18,  19,  20,  21,  22,  23,  24,  25,\n",
       "        26,  27,  28,  29,  30,  31,  32,  33,  34,  35,  36,  37,  38,\n",
       "        39,  40,  41,  42,  43,  44,  45,  46,  47,  48,  49,  50,  51,\n",
       "        52,  53,  54,  55,  56,  57,  58,  59,  60,  61,  62,  63,  64,\n",
       "        65,  66,  67,  68,  69,  70,  71,  72,  73,  74,  75,  76,  77,\n",
       "        78,  79,  80,  81,  82,  83,  84,  85,  86,  87,  88,  89,  90,\n",
       "        91,  92,  93,  94,  95,  96,  97,  98,  99, 100, 101, 102, 103,\n",
       "       104, 105, 106, 107, 108, 109, 110, 111, 112, 113, 114, 115, 116,\n",
       "       117, 118, 119, 120, 121, 122, 123, 124, 125, 126, 127, 128, 129,\n",
       "       130, 131, 132, 133, 134, 135, 136, 137, 138, 139, 140, 141, 142, 143])"
      ]
     },
     "execution_count": 4,
     "metadata": {},
     "output_type": "execute_result"
    }
   ],
   "source": [
    "M"
   ]
  },
  {
   "cell_type": "code",
   "execution_count": 5,
   "metadata": {
    "collapsed": false
   },
   "outputs": [
    {
     "data": {
      "text/plain": [
       "65536"
      ]
     },
     "execution_count": 5,
     "metadata": {},
     "output_type": "execute_result"
    }
   ],
   "source": [
    "M=2\n",
    "N**2//M**2"
   ]
  },
  {
   "cell_type": "code",
   "execution_count": 10,
   "metadata": {
    "collapsed": true
   },
   "outputs": [],
   "source": [
    "error=np.sum(np.abs(d))/(3*N*N*255)"
   ]
  },
  {
   "cell_type": "code",
   "execution_count": 11,
   "metadata": {
    "collapsed": false
   },
   "outputs": [
    {
     "data": {
      "text/plain": [
       "0.050024957996999374"
      ]
     },
     "execution_count": 11,
     "metadata": {},
     "output_type": "execute_result"
    }
   ],
   "source": [
    "error"
   ]
  },
  {
   "cell_type": "code",
   "execution_count": null,
   "metadata": {
    "collapsed": true
   },
   "outputs": [],
   "source": []
  }
 ],
 "metadata": {
  "kernelspec": {
   "display_name": "Python 2",
   "language": "python",
   "name": "python2"
  },
  "language_info": {
   "codemirror_mode": {
    "name": "ipython",
    "version": 2
   },
   "file_extension": ".py",
   "mimetype": "text/x-python",
   "name": "python",
   "nbconvert_exporter": "python",
   "pygments_lexer": "ipython2",
   "version": "2.7.11"
  }
 },
 "nbformat": 4,
 "nbformat_minor": 0
}
