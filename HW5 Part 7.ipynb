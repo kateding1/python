{
 "cells": [
  {
   "cell_type": "code",
   "execution_count": 4,
   "metadata": {
    "collapsed": false
   },
   "outputs": [],
   "source": [
    "import numpy as np\n",
    "#import matplotlib.pyplot as plt\n",
    "#from sklearn.ensemble import BaggingClassifier\n",
    "#from sklearn.neighbors import KNeighborsClassifier\n",
    "from sklearn.ensemble import BaggingRegressor\n",
    "#from sklearn.tree import DecisionTreeRegressor\n",
    "from kfun import *\n",
    "\n",
    "# load data\n",
    "train_noised = np.loadtxt('train_noised.csv', skiprows = 1, delimiter = \",\")[:, 1:]\n",
    "train_clean = np.loadtxt('train_clean.csv', skiprows = 1, delimiter = \",\")[:, 1:]\n",
    "test_noised = np.loadtxt('test_noised.csv', skiprows = 1, delimiter = \",\")[:, 1:]\n",
    "\n",
    "# form feature\n",
    "trainRow, trainCols = train_noised.shape\n",
    "testRow, testCols = test_noised.shape\n",
    "m = np.sqrt(trainCols).astype(np.int)\n",
    "\n",
    "trainNoisedFeat = np.zeros((trainRow * trainCols, 25))\n",
    "testNoisedFeat = np.zeros((testRow * trainCols, 25))\n",
    "\n",
    "# form the feature\n",
    "for idx in range(trainRow):\n",
    "\ttrainNoisedFeat[idx*trainCols : idx*trainCols + trainCols] = f_get_patches(np.reshape(train_noised[idx, :],(m,m)))\n",
    " #Y_train = np.zeros((train_noised.shape))\n",
    "Y_train= train_clean.reshape(trainRow * trainCols)\n",
    "\n",
    "for idx in range(testRow):\n",
    "    testNoisedFeat[idx*testCols : idx*testCols + testCols] = f_get_patches(np.reshape(test_noised[idx, :],(m,m)))\n",
    "\n",
    "temp = BaggingRegressor()\n",
    "temp.fit(trainNoisedFeat,Y_train)\n",
    "testPred =temp.predict(testNoisedFeat) \n",
    "\n",
    "np.savetxt('resultKaggle.csv',testPred,delimiter=\",\")"
   ]
  },
  {
   "cell_type": "code",
   "execution_count": 1,
   "metadata": {
    "collapsed": true
   },
   "outputs": [],
   "source": [
    "import numpy as np\n",
    "def f_get_patches(X):\n",
    "    m,n = X.shape\n",
    "    X = np.pad(X, ((2, 2), (2, 2)), 'constant')\n",
    "    patches = np.zeros((m*n, 25))\n",
    "    for i in range(m):\n",
    "        for j in range(n):\n",
    "            patches[i*n+j] = X[i:i+5,j:j+5].reshape(25)\n",
    "    return patches"
   ]
  },
  {
   "cell_type": "code",
   "execution_count": 8,
   "metadata": {
    "collapsed": false
   },
   "outputs": [
    {
     "data": {
      "text/plain": [
       "99"
      ]
     },
     "execution_count": 8,
     "metadata": {},
     "output_type": "execute_result"
    }
   ],
   "source": [
    "idx"
   ]
  },
  {
   "cell_type": "code",
   "execution_count": null,
   "metadata": {
    "collapsed": true
   },
   "outputs": [],
   "source": []
  }
 ],
 "metadata": {
  "kernelspec": {
   "display_name": "Python 2",
   "language": "python",
   "name": "python2"
  },
  "language_info": {
   "codemirror_mode": {
    "name": "ipython",
    "version": 2
   },
   "file_extension": ".py",
   "mimetype": "text/x-python",
   "name": "python",
   "nbconvert_exporter": "python",
   "pygments_lexer": "ipython2",
   "version": "2.7.11"
  }
 },
 "nbformat": 4,
 "nbformat_minor": 0
}
